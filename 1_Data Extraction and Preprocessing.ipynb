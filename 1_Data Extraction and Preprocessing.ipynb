{
 "cells": [
  {
   "cell_type": "markdown",
   "metadata": {},
   "source": [
    "# Imports"
   ]
  },
  {
   "cell_type": "code",
   "execution_count": 1,
   "metadata": {},
   "outputs": [],
   "source": [
    "import numpy as np\n",
    "import pandas as pd\n",
    "\n",
    "import glob\n",
    "import os\n",
    "\n",
    "from sklearn.preprocessing import LabelEncoder,MinMaxScaler\n",
    "\n",
    "import scipy.stats as stats  #for Q-Q plot\n",
    "\n",
    "import matplotlib.pyplot as plt\n",
    "import seaborn as sns\n",
    "\n",
    "import gc\n",
    "\n",
    "import warnings\n",
    "warnings.filterwarnings('ignore')\n",
    "\n",
    "%matplotlib inline"
   ]
  },
  {
   "cell_type": "markdown",
   "metadata": {},
   "source": [
    "# 1.Loading Data\n",
    "Time Range: 2016-01-01---2020-10-29\n"
   ]
  },
  {
   "cell_type": "markdown",
   "metadata": {},
   "source": [
    "## 1.1 Daily Max/Min temperature data\n",
    "max_temp:  [BOM:Daily Maximum Temperature of Station:Melbourne(Olympic Park)](http://www.bom.gov.au/jsp/ncc/cdio/weatherData/av?p_nccObsCode=122&p_display_type=dailyDataFile&p_startYear=&p_c=&p_stn_num=086338)\\\n",
    "min_temp:   [BOM:Daily Minimum Temperature of Station:Melbourne(Olympic Park)](http://www.bom.gov.au/jsp/ncc/cdio/weatherData/av?p_nccObsCode=123&p_display_type=dailyDataFile&p_startYear=&p_c=&p_stn_num=086338)\\\n",
    "temperature: max_temp left join on min_temp"
   ]
  },
  {
   "cell_type": "code",
   "execution_count": 2,
   "metadata": {},
   "outputs": [],
   "source": [
    "max_temp=pd.read_csv('IDCJAC0010_086338_1800_Data.csv')"
   ]
  },
  {
   "cell_type": "code",
   "execution_count": 3,
   "metadata": {},
   "outputs": [],
   "source": [
    "min_temp=pd.read_csv('IDCJAC0011_086338_1800_Data.csv')"
   ]
  },
  {
   "cell_type": "code",
   "execution_count": 4,
   "metadata": {},
   "outputs": [
    {
     "data": {
      "text/html": [
       "<div>\n",
       "<style scoped>\n",
       "    .dataframe tbody tr th:only-of-type {\n",
       "        vertical-align: middle;\n",
       "    }\n",
       "\n",
       "    .dataframe tbody tr th {\n",
       "        vertical-align: top;\n",
       "    }\n",
       "\n",
       "    .dataframe thead th {\n",
       "        text-align: right;\n",
       "    }\n",
       "</style>\n",
       "<table border=\"1\" class=\"dataframe\">\n",
       "  <thead>\n",
       "    <tr style=\"text-align: right;\">\n",
       "      <th></th>\n",
       "      <th>Product code</th>\n",
       "      <th>Bureau of Meteorology station number</th>\n",
       "      <th>Year</th>\n",
       "      <th>Month</th>\n",
       "      <th>Day</th>\n",
       "      <th>Maximum temperature (Degree C)</th>\n",
       "      <th>Days of accumulation of maximum temperature</th>\n",
       "      <th>Quality</th>\n",
       "    </tr>\n",
       "  </thead>\n",
       "  <tbody>\n",
       "    <tr>\n",
       "      <th>0</th>\n",
       "      <td>IDCJAC0010</td>\n",
       "      <td>86338</td>\n",
       "      <td>2013</td>\n",
       "      <td>1</td>\n",
       "      <td>1</td>\n",
       "      <td>NaN</td>\n",
       "      <td>NaN</td>\n",
       "      <td>NaN</td>\n",
       "    </tr>\n",
       "    <tr>\n",
       "      <th>1</th>\n",
       "      <td>IDCJAC0010</td>\n",
       "      <td>86338</td>\n",
       "      <td>2013</td>\n",
       "      <td>1</td>\n",
       "      <td>2</td>\n",
       "      <td>NaN</td>\n",
       "      <td>NaN</td>\n",
       "      <td>NaN</td>\n",
       "    </tr>\n",
       "    <tr>\n",
       "      <th>2</th>\n",
       "      <td>IDCJAC0010</td>\n",
       "      <td>86338</td>\n",
       "      <td>2013</td>\n",
       "      <td>1</td>\n",
       "      <td>3</td>\n",
       "      <td>NaN</td>\n",
       "      <td>NaN</td>\n",
       "      <td>NaN</td>\n",
       "    </tr>\n",
       "    <tr>\n",
       "      <th>3</th>\n",
       "      <td>IDCJAC0010</td>\n",
       "      <td>86338</td>\n",
       "      <td>2013</td>\n",
       "      <td>1</td>\n",
       "      <td>4</td>\n",
       "      <td>NaN</td>\n",
       "      <td>NaN</td>\n",
       "      <td>NaN</td>\n",
       "    </tr>\n",
       "    <tr>\n",
       "      <th>4</th>\n",
       "      <td>IDCJAC0010</td>\n",
       "      <td>86338</td>\n",
       "      <td>2013</td>\n",
       "      <td>1</td>\n",
       "      <td>5</td>\n",
       "      <td>NaN</td>\n",
       "      <td>NaN</td>\n",
       "      <td>NaN</td>\n",
       "    </tr>\n",
       "  </tbody>\n",
       "</table>\n",
       "</div>"
      ],
      "text/plain": [
       "  Product code  Bureau of Meteorology station number  Year  Month  Day  \\\n",
       "0   IDCJAC0010                                 86338  2013      1    1   \n",
       "1   IDCJAC0010                                 86338  2013      1    2   \n",
       "2   IDCJAC0010                                 86338  2013      1    3   \n",
       "3   IDCJAC0010                                 86338  2013      1    4   \n",
       "4   IDCJAC0010                                 86338  2013      1    5   \n",
       "\n",
       "   Maximum temperature (Degree C)  \\\n",
       "0                             NaN   \n",
       "1                             NaN   \n",
       "2                             NaN   \n",
       "3                             NaN   \n",
       "4                             NaN   \n",
       "\n",
       "   Days of accumulation of maximum temperature Quality  \n",
       "0                                          NaN     NaN  \n",
       "1                                          NaN     NaN  \n",
       "2                                          NaN     NaN  \n",
       "3                                          NaN     NaN  \n",
       "4                                          NaN     NaN  "
      ]
     },
     "execution_count": 4,
     "metadata": {},
     "output_type": "execute_result"
    }
   ],
   "source": [
    "max_temp.head()"
   ]
  },
  {
   "cell_type": "code",
   "execution_count": 5,
   "metadata": {},
   "outputs": [
    {
     "data": {
      "text/html": [
       "<div>\n",
       "<style scoped>\n",
       "    .dataframe tbody tr th:only-of-type {\n",
       "        vertical-align: middle;\n",
       "    }\n",
       "\n",
       "    .dataframe tbody tr th {\n",
       "        vertical-align: top;\n",
       "    }\n",
       "\n",
       "    .dataframe thead th {\n",
       "        text-align: right;\n",
       "    }\n",
       "</style>\n",
       "<table border=\"1\" class=\"dataframe\">\n",
       "  <thead>\n",
       "    <tr style=\"text-align: right;\">\n",
       "      <th></th>\n",
       "      <th>Product code</th>\n",
       "      <th>Bureau of Meteorology station number</th>\n",
       "      <th>Year</th>\n",
       "      <th>Month</th>\n",
       "      <th>Day</th>\n",
       "      <th>Maximum temperature (Degree C)</th>\n",
       "      <th>Days of accumulation of maximum temperature</th>\n",
       "      <th>Quality</th>\n",
       "    </tr>\n",
       "  </thead>\n",
       "  <tbody>\n",
       "    <tr>\n",
       "      <th>151</th>\n",
       "      <td>IDCJAC0010</td>\n",
       "      <td>86338</td>\n",
       "      <td>2013</td>\n",
       "      <td>6</td>\n",
       "      <td>1</td>\n",
       "      <td>15.8</td>\n",
       "      <td>1.0</td>\n",
       "      <td>Y</td>\n",
       "    </tr>\n",
       "    <tr>\n",
       "      <th>152</th>\n",
       "      <td>IDCJAC0010</td>\n",
       "      <td>86338</td>\n",
       "      <td>2013</td>\n",
       "      <td>6</td>\n",
       "      <td>2</td>\n",
       "      <td>15.7</td>\n",
       "      <td>1.0</td>\n",
       "      <td>Y</td>\n",
       "    </tr>\n",
       "    <tr>\n",
       "      <th>153</th>\n",
       "      <td>IDCJAC0010</td>\n",
       "      <td>86338</td>\n",
       "      <td>2013</td>\n",
       "      <td>6</td>\n",
       "      <td>3</td>\n",
       "      <td>14.8</td>\n",
       "      <td>1.0</td>\n",
       "      <td>Y</td>\n",
       "    </tr>\n",
       "    <tr>\n",
       "      <th>154</th>\n",
       "      <td>IDCJAC0010</td>\n",
       "      <td>86338</td>\n",
       "      <td>2013</td>\n",
       "      <td>6</td>\n",
       "      <td>4</td>\n",
       "      <td>15.0</td>\n",
       "      <td>1.0</td>\n",
       "      <td>Y</td>\n",
       "    </tr>\n",
       "    <tr>\n",
       "      <th>155</th>\n",
       "      <td>IDCJAC0010</td>\n",
       "      <td>86338</td>\n",
       "      <td>2013</td>\n",
       "      <td>6</td>\n",
       "      <td>5</td>\n",
       "      <td>14.6</td>\n",
       "      <td>1.0</td>\n",
       "      <td>Y</td>\n",
       "    </tr>\n",
       "  </tbody>\n",
       "</table>\n",
       "</div>"
      ],
      "text/plain": [
       "    Product code  Bureau of Meteorology station number  Year  Month  Day  \\\n",
       "151   IDCJAC0010                                 86338  2013      6    1   \n",
       "152   IDCJAC0010                                 86338  2013      6    2   \n",
       "153   IDCJAC0010                                 86338  2013      6    3   \n",
       "154   IDCJAC0010                                 86338  2013      6    4   \n",
       "155   IDCJAC0010                                 86338  2013      6    5   \n",
       "\n",
       "     Maximum temperature (Degree C)  \\\n",
       "151                            15.8   \n",
       "152                            15.7   \n",
       "153                            14.8   \n",
       "154                            15.0   \n",
       "155                            14.6   \n",
       "\n",
       "     Days of accumulation of maximum temperature Quality  \n",
       "151                                          1.0       Y  \n",
       "152                                          1.0       Y  \n",
       "153                                          1.0       Y  \n",
       "154                                          1.0       Y  \n",
       "155                                          1.0       Y  "
      ]
     },
     "execution_count": 5,
     "metadata": {},
     "output_type": "execute_result"
    }
   ],
   "source": [
    "max_temp[max_temp['Days of accumulation of maximum temperature'].isnull() == False].head()"
   ]
  },
  {
   "cell_type": "code",
   "execution_count": 6,
   "metadata": {},
   "outputs": [
    {
     "data": {
      "text/plain": [
       "Index(['Product code', 'Bureau of Meteorology station number', 'Year', 'Month',\n",
       "       'Day', 'Maximum temperature (Degree C)',\n",
       "       'Days of accumulation of maximum temperature', 'Quality'],\n",
       "      dtype='object')"
      ]
     },
     "execution_count": 6,
     "metadata": {},
     "output_type": "execute_result"
    }
   ],
   "source": [
    "max_temp.columns"
   ]
  },
  {
   "cell_type": "code",
   "execution_count": 7,
   "metadata": {},
   "outputs": [],
   "source": [
    "max_temp=max_temp.drop(columns=['Product code', 'Bureau of Meteorology station number',\n",
    "                                'Days of accumulation of maximum temperature', 'Quality'])"
   ]
  },
  {
   "cell_type": "code",
   "execution_count": 8,
   "metadata": {},
   "outputs": [
    {
     "data": {
      "text/html": [
       "<div>\n",
       "<style scoped>\n",
       "    .dataframe tbody tr th:only-of-type {\n",
       "        vertical-align: middle;\n",
       "    }\n",
       "\n",
       "    .dataframe tbody tr th {\n",
       "        vertical-align: top;\n",
       "    }\n",
       "\n",
       "    .dataframe thead th {\n",
       "        text-align: right;\n",
       "    }\n",
       "</style>\n",
       "<table border=\"1\" class=\"dataframe\">\n",
       "  <thead>\n",
       "    <tr style=\"text-align: right;\">\n",
       "      <th></th>\n",
       "      <th>Year</th>\n",
       "      <th>Month</th>\n",
       "      <th>Day</th>\n",
       "      <th>Maximum temperature (Degree C)</th>\n",
       "    </tr>\n",
       "  </thead>\n",
       "  <tbody>\n",
       "    <tr>\n",
       "      <th>0</th>\n",
       "      <td>2013</td>\n",
       "      <td>1</td>\n",
       "      <td>1</td>\n",
       "      <td>NaN</td>\n",
       "    </tr>\n",
       "    <tr>\n",
       "      <th>1</th>\n",
       "      <td>2013</td>\n",
       "      <td>1</td>\n",
       "      <td>2</td>\n",
       "      <td>NaN</td>\n",
       "    </tr>\n",
       "    <tr>\n",
       "      <th>2</th>\n",
       "      <td>2013</td>\n",
       "      <td>1</td>\n",
       "      <td>3</td>\n",
       "      <td>NaN</td>\n",
       "    </tr>\n",
       "    <tr>\n",
       "      <th>3</th>\n",
       "      <td>2013</td>\n",
       "      <td>1</td>\n",
       "      <td>4</td>\n",
       "      <td>NaN</td>\n",
       "    </tr>\n",
       "    <tr>\n",
       "      <th>4</th>\n",
       "      <td>2013</td>\n",
       "      <td>1</td>\n",
       "      <td>5</td>\n",
       "      <td>NaN</td>\n",
       "    </tr>\n",
       "  </tbody>\n",
       "</table>\n",
       "</div>"
      ],
      "text/plain": [
       "   Year  Month  Day  Maximum temperature (Degree C)\n",
       "0  2013      1    1                             NaN\n",
       "1  2013      1    2                             NaN\n",
       "2  2013      1    3                             NaN\n",
       "3  2013      1    4                             NaN\n",
       "4  2013      1    5                             NaN"
      ]
     },
     "execution_count": 8,
     "metadata": {},
     "output_type": "execute_result"
    }
   ],
   "source": [
    "max_temp.head()"
   ]
  },
  {
   "cell_type": "code",
   "execution_count": 9,
   "metadata": {},
   "outputs": [],
   "source": [
    "max_temp=max_temp.rename(columns={'Maximum temperature (Degree C)':'max_temp'})"
   ]
  },
  {
   "cell_type": "code",
   "execution_count": 10,
   "metadata": {},
   "outputs": [],
   "source": [
    "max_temp=max_temp[max_temp['Year']>=2016]"
   ]
  },
  {
   "cell_type": "code",
   "execution_count": 11,
   "metadata": {},
   "outputs": [
    {
     "data": {
      "text/plain": [
       "Year        0\n",
       "Month       0\n",
       "Day         0\n",
       "max_temp    0\n",
       "dtype: int64"
      ]
     },
     "execution_count": 11,
     "metadata": {},
     "output_type": "execute_result"
    }
   ],
   "source": [
    "max_temp.isnull().sum() # No null values"
   ]
  },
  {
   "cell_type": "code",
   "execution_count": 12,
   "metadata": {},
   "outputs": [],
   "source": [
    "max_temp.index=pd.to_datetime(max_temp[['Year','Month','Day']])"
   ]
  },
  {
   "cell_type": "code",
   "execution_count": 13,
   "metadata": {},
   "outputs": [],
   "source": [
    "max_temp=max_temp.drop(columns=['Year','Month','Day'])"
   ]
  },
  {
   "cell_type": "code",
   "execution_count": 14,
   "metadata": {},
   "outputs": [
    {
     "data": {
      "text/html": [
       "<div>\n",
       "<style scoped>\n",
       "    .dataframe tbody tr th:only-of-type {\n",
       "        vertical-align: middle;\n",
       "    }\n",
       "\n",
       "    .dataframe tbody tr th {\n",
       "        vertical-align: top;\n",
       "    }\n",
       "\n",
       "    .dataframe thead th {\n",
       "        text-align: right;\n",
       "    }\n",
       "</style>\n",
       "<table border=\"1\" class=\"dataframe\">\n",
       "  <thead>\n",
       "    <tr style=\"text-align: right;\">\n",
       "      <th></th>\n",
       "      <th>max_temp</th>\n",
       "    </tr>\n",
       "  </thead>\n",
       "  <tbody>\n",
       "    <tr>\n",
       "      <th>2020-10-25</th>\n",
       "      <td>14.6</td>\n",
       "    </tr>\n",
       "    <tr>\n",
       "      <th>2020-10-26</th>\n",
       "      <td>17.9</td>\n",
       "    </tr>\n",
       "    <tr>\n",
       "      <th>2020-10-27</th>\n",
       "      <td>19.6</td>\n",
       "    </tr>\n",
       "    <tr>\n",
       "      <th>2020-10-28</th>\n",
       "      <td>20.9</td>\n",
       "    </tr>\n",
       "    <tr>\n",
       "      <th>2020-10-29</th>\n",
       "      <td>24.3</td>\n",
       "    </tr>\n",
       "  </tbody>\n",
       "</table>\n",
       "</div>"
      ],
      "text/plain": [
       "            max_temp\n",
       "2020-10-25      14.6\n",
       "2020-10-26      17.9\n",
       "2020-10-27      19.6\n",
       "2020-10-28      20.9\n",
       "2020-10-29      24.3"
      ]
     },
     "execution_count": 14,
     "metadata": {},
     "output_type": "execute_result"
    }
   ],
   "source": [
    "max_temp.tail()"
   ]
  },
  {
   "cell_type": "code",
   "execution_count": 15,
   "metadata": {},
   "outputs": [
    {
     "data": {
      "text/plain": [
       "(1764, 1)"
      ]
     },
     "execution_count": 15,
     "metadata": {},
     "output_type": "execute_result"
    }
   ],
   "source": [
    "max_temp.shape"
   ]
  },
  {
   "cell_type": "code",
   "execution_count": 16,
   "metadata": {},
   "outputs": [
    {
     "data": {
      "text/html": [
       "<div>\n",
       "<style scoped>\n",
       "    .dataframe tbody tr th:only-of-type {\n",
       "        vertical-align: middle;\n",
       "    }\n",
       "\n",
       "    .dataframe tbody tr th {\n",
       "        vertical-align: top;\n",
       "    }\n",
       "\n",
       "    .dataframe thead th {\n",
       "        text-align: right;\n",
       "    }\n",
       "</style>\n",
       "<table border=\"1\" class=\"dataframe\">\n",
       "  <thead>\n",
       "    <tr style=\"text-align: right;\">\n",
       "      <th></th>\n",
       "      <th>Product code</th>\n",
       "      <th>Bureau of Meteorology station number</th>\n",
       "      <th>Year</th>\n",
       "      <th>Month</th>\n",
       "      <th>Day</th>\n",
       "      <th>Minimum temperature (Degree C)</th>\n",
       "      <th>Days of accumulation of minimum temperature</th>\n",
       "      <th>Quality</th>\n",
       "    </tr>\n",
       "  </thead>\n",
       "  <tbody>\n",
       "    <tr>\n",
       "      <th>0</th>\n",
       "      <td>IDCJAC0011</td>\n",
       "      <td>86338</td>\n",
       "      <td>2013</td>\n",
       "      <td>1</td>\n",
       "      <td>1</td>\n",
       "      <td>NaN</td>\n",
       "      <td>NaN</td>\n",
       "      <td>NaN</td>\n",
       "    </tr>\n",
       "    <tr>\n",
       "      <th>1</th>\n",
       "      <td>IDCJAC0011</td>\n",
       "      <td>86338</td>\n",
       "      <td>2013</td>\n",
       "      <td>1</td>\n",
       "      <td>2</td>\n",
       "      <td>NaN</td>\n",
       "      <td>NaN</td>\n",
       "      <td>NaN</td>\n",
       "    </tr>\n",
       "    <tr>\n",
       "      <th>2</th>\n",
       "      <td>IDCJAC0011</td>\n",
       "      <td>86338</td>\n",
       "      <td>2013</td>\n",
       "      <td>1</td>\n",
       "      <td>3</td>\n",
       "      <td>NaN</td>\n",
       "      <td>NaN</td>\n",
       "      <td>NaN</td>\n",
       "    </tr>\n",
       "    <tr>\n",
       "      <th>3</th>\n",
       "      <td>IDCJAC0011</td>\n",
       "      <td>86338</td>\n",
       "      <td>2013</td>\n",
       "      <td>1</td>\n",
       "      <td>4</td>\n",
       "      <td>NaN</td>\n",
       "      <td>NaN</td>\n",
       "      <td>NaN</td>\n",
       "    </tr>\n",
       "    <tr>\n",
       "      <th>4</th>\n",
       "      <td>IDCJAC0011</td>\n",
       "      <td>86338</td>\n",
       "      <td>2013</td>\n",
       "      <td>1</td>\n",
       "      <td>5</td>\n",
       "      <td>NaN</td>\n",
       "      <td>NaN</td>\n",
       "      <td>NaN</td>\n",
       "    </tr>\n",
       "  </tbody>\n",
       "</table>\n",
       "</div>"
      ],
      "text/plain": [
       "  Product code  Bureau of Meteorology station number  Year  Month  Day  \\\n",
       "0   IDCJAC0011                                 86338  2013      1    1   \n",
       "1   IDCJAC0011                                 86338  2013      1    2   \n",
       "2   IDCJAC0011                                 86338  2013      1    3   \n",
       "3   IDCJAC0011                                 86338  2013      1    4   \n",
       "4   IDCJAC0011                                 86338  2013      1    5   \n",
       "\n",
       "   Minimum temperature (Degree C)  \\\n",
       "0                             NaN   \n",
       "1                             NaN   \n",
       "2                             NaN   \n",
       "3                             NaN   \n",
       "4                             NaN   \n",
       "\n",
       "   Days of accumulation of minimum temperature Quality  \n",
       "0                                          NaN     NaN  \n",
       "1                                          NaN     NaN  \n",
       "2                                          NaN     NaN  \n",
       "3                                          NaN     NaN  \n",
       "4                                          NaN     NaN  "
      ]
     },
     "execution_count": 16,
     "metadata": {},
     "output_type": "execute_result"
    }
   ],
   "source": [
    "min_temp.head()"
   ]
  },
  {
   "cell_type": "code",
   "execution_count": 17,
   "metadata": {},
   "outputs": [],
   "source": [
    "min_temp=min_temp.drop(columns=['Product code', 'Bureau of Meteorology station number',\n",
    "                                'Days of accumulation of minimum temperature','Quality'])\n",
    "min_temp=min_temp.rename(columns={'Minimum temperature (Degree C)':'min_temp'})\n",
    "min_temp=min_temp[min_temp['Year']>=2016]\n",
    "min_temp.index=pd.to_datetime(min_temp[['Year','Month','Day']])\n",
    "min_temp=min_temp.drop(columns=['Year','Month','Day'])"
   ]
  },
  {
   "cell_type": "code",
   "execution_count": 18,
   "metadata": {},
   "outputs": [
    {
     "data": {
      "text/plain": [
       "(1765, 1)"
      ]
     },
     "execution_count": 18,
     "metadata": {},
     "output_type": "execute_result"
    }
   ],
   "source": [
    "min_temp.shape"
   ]
  },
  {
   "cell_type": "code",
   "execution_count": 19,
   "metadata": {},
   "outputs": [
    {
     "data": {
      "text/html": [
       "<div>\n",
       "<style scoped>\n",
       "    .dataframe tbody tr th:only-of-type {\n",
       "        vertical-align: middle;\n",
       "    }\n",
       "\n",
       "    .dataframe tbody tr th {\n",
       "        vertical-align: top;\n",
       "    }\n",
       "\n",
       "    .dataframe thead th {\n",
       "        text-align: right;\n",
       "    }\n",
       "</style>\n",
       "<table border=\"1\" class=\"dataframe\">\n",
       "  <thead>\n",
       "    <tr style=\"text-align: right;\">\n",
       "      <th></th>\n",
       "      <th>min_temp</th>\n",
       "    </tr>\n",
       "  </thead>\n",
       "  <tbody>\n",
       "    <tr>\n",
       "      <th>2020-10-26</th>\n",
       "      <td>9.2</td>\n",
       "    </tr>\n",
       "    <tr>\n",
       "      <th>2020-10-27</th>\n",
       "      <td>11.1</td>\n",
       "    </tr>\n",
       "    <tr>\n",
       "      <th>2020-10-28</th>\n",
       "      <td>9.5</td>\n",
       "    </tr>\n",
       "    <tr>\n",
       "      <th>2020-10-29</th>\n",
       "      <td>11.2</td>\n",
       "    </tr>\n",
       "    <tr>\n",
       "      <th>2020-10-30</th>\n",
       "      <td>12.9</td>\n",
       "    </tr>\n",
       "  </tbody>\n",
       "</table>\n",
       "</div>"
      ],
      "text/plain": [
       "            min_temp\n",
       "2020-10-26       9.2\n",
       "2020-10-27      11.1\n",
       "2020-10-28       9.5\n",
       "2020-10-29      11.2\n",
       "2020-10-30      12.9"
      ]
     },
     "execution_count": 19,
     "metadata": {},
     "output_type": "execute_result"
    }
   ],
   "source": [
    "min_temp.tail()"
   ]
  },
  {
   "cell_type": "code",
   "execution_count": 20,
   "metadata": {},
   "outputs": [
    {
     "data": {
      "text/plain": [
       "min_temp    0\n",
       "dtype: int64"
      ]
     },
     "execution_count": 20,
     "metadata": {},
     "output_type": "execute_result"
    }
   ],
   "source": [
    "min_temp.isnull().sum()"
   ]
  },
  {
   "cell_type": "code",
   "execution_count": 21,
   "metadata": {},
   "outputs": [],
   "source": [
    "temperature=max_temp.join(min_temp,how='left')"
   ]
  },
  {
   "cell_type": "code",
   "execution_count": 22,
   "metadata": {},
   "outputs": [
    {
     "data": {
      "text/html": [
       "<div>\n",
       "<style scoped>\n",
       "    .dataframe tbody tr th:only-of-type {\n",
       "        vertical-align: middle;\n",
       "    }\n",
       "\n",
       "    .dataframe tbody tr th {\n",
       "        vertical-align: top;\n",
       "    }\n",
       "\n",
       "    .dataframe thead th {\n",
       "        text-align: right;\n",
       "    }\n",
       "</style>\n",
       "<table border=\"1\" class=\"dataframe\">\n",
       "  <thead>\n",
       "    <tr style=\"text-align: right;\">\n",
       "      <th></th>\n",
       "      <th>max_temp</th>\n",
       "      <th>min_temp</th>\n",
       "    </tr>\n",
       "  </thead>\n",
       "  <tbody>\n",
       "    <tr>\n",
       "      <th>2020-10-25</th>\n",
       "      <td>14.6</td>\n",
       "      <td>8.3</td>\n",
       "    </tr>\n",
       "    <tr>\n",
       "      <th>2020-10-26</th>\n",
       "      <td>17.9</td>\n",
       "      <td>9.2</td>\n",
       "    </tr>\n",
       "    <tr>\n",
       "      <th>2020-10-27</th>\n",
       "      <td>19.6</td>\n",
       "      <td>11.1</td>\n",
       "    </tr>\n",
       "    <tr>\n",
       "      <th>2020-10-28</th>\n",
       "      <td>20.9</td>\n",
       "      <td>9.5</td>\n",
       "    </tr>\n",
       "    <tr>\n",
       "      <th>2020-10-29</th>\n",
       "      <td>24.3</td>\n",
       "      <td>11.2</td>\n",
       "    </tr>\n",
       "  </tbody>\n",
       "</table>\n",
       "</div>"
      ],
      "text/plain": [
       "            max_temp  min_temp\n",
       "2020-10-25      14.6       8.3\n",
       "2020-10-26      17.9       9.2\n",
       "2020-10-27      19.6      11.1\n",
       "2020-10-28      20.9       9.5\n",
       "2020-10-29      24.3      11.2"
      ]
     },
     "execution_count": 22,
     "metadata": {},
     "output_type": "execute_result"
    }
   ],
   "source": [
    "temperature.tail()"
   ]
  },
  {
   "cell_type": "code",
   "execution_count": 23,
   "metadata": {},
   "outputs": [
    {
     "data": {
      "text/plain": [
       "max_temp    float64\n",
       "min_temp    float64\n",
       "dtype: object"
      ]
     },
     "execution_count": 23,
     "metadata": {},
     "output_type": "execute_result"
    }
   ],
   "source": [
    "temperature.dtypes"
   ]
  },
  {
   "cell_type": "markdown",
   "metadata": {},
   "source": [
    "## 1.2 Victoria Total Demand\n",
    "demand:  [AEMO: VIC-30-Min Aggregated Price & Demand Data)](https://aemo.com.au/energy-systems/electricity/national-electricity-market-nem/data-nem/aggregated-data)"
   ]
  },
  {
   "cell_type": "code",
   "execution_count": 24,
   "metadata": {},
   "outputs": [],
   "source": [
    "path = r'C:\\Users\\syxsw\\MLProjects\\Australia_Electricity\\AEMO VIC-30-Min Aggregated Price and Demand' \n",
    "all_files = glob.glob(path + \"/*.csv\")\n",
    "\n",
    "lst = []\n",
    "\n",
    "for filename in all_files:\n",
    "    df = pd.read_csv(filename, index_col=None, header=0)\n",
    "    lst.append(df)\n",
    "\n",
    "demand = pd.concat(lst, axis=0, ignore_index=True,sort=True)"
   ]
  },
  {
   "cell_type": "code",
   "execution_count": 25,
   "metadata": {},
   "outputs": [
    {
     "data": {
      "text/plain": [
       "(84672, 5)"
      ]
     },
     "execution_count": 25,
     "metadata": {},
     "output_type": "execute_result"
    }
   ],
   "source": [
    "demand.shape"
   ]
  },
  {
   "cell_type": "code",
   "execution_count": 26,
   "metadata": {},
   "outputs": [],
   "source": [
    "demand.to_csv(r'C:\\Users\\syxsw\\MLProjects\\Australia_Electricity\\2016-2020.10-demand.csv')"
   ]
  },
  {
   "cell_type": "code",
   "execution_count": 27,
   "metadata": {},
   "outputs": [
    {
     "data": {
      "text/html": [
       "<div>\n",
       "<style scoped>\n",
       "    .dataframe tbody tr th:only-of-type {\n",
       "        vertical-align: middle;\n",
       "    }\n",
       "\n",
       "    .dataframe tbody tr th {\n",
       "        vertical-align: top;\n",
       "    }\n",
       "\n",
       "    .dataframe thead th {\n",
       "        text-align: right;\n",
       "    }\n",
       "</style>\n",
       "<table border=\"1\" class=\"dataframe\">\n",
       "  <thead>\n",
       "    <tr style=\"text-align: right;\">\n",
       "      <th></th>\n",
       "      <th>PERIODTYPE</th>\n",
       "      <th>REGION</th>\n",
       "      <th>RRP</th>\n",
       "      <th>SETTLEMENTDATE</th>\n",
       "      <th>TOTALDEMAND</th>\n",
       "    </tr>\n",
       "  </thead>\n",
       "  <tbody>\n",
       "    <tr>\n",
       "      <th>84667</th>\n",
       "      <td>TRADE</td>\n",
       "      <td>VIC1</td>\n",
       "      <td>47.98</td>\n",
       "      <td>2020/10/29 22:00:00</td>\n",
       "      <td>4446.18</td>\n",
       "    </tr>\n",
       "    <tr>\n",
       "      <th>84668</th>\n",
       "      <td>TRADE</td>\n",
       "      <td>VIC1</td>\n",
       "      <td>54.33</td>\n",
       "      <td>2020/10/29 22:30:00</td>\n",
       "      <td>4353.45</td>\n",
       "    </tr>\n",
       "    <tr>\n",
       "      <th>84669</th>\n",
       "      <td>TRADE</td>\n",
       "      <td>VIC1</td>\n",
       "      <td>51.07</td>\n",
       "      <td>2020/10/29 23:00:00</td>\n",
       "      <td>4293.65</td>\n",
       "    </tr>\n",
       "    <tr>\n",
       "      <th>84670</th>\n",
       "      <td>TRADE</td>\n",
       "      <td>VIC1</td>\n",
       "      <td>56.93</td>\n",
       "      <td>2020/10/29 23:30:00</td>\n",
       "      <td>4479.59</td>\n",
       "    </tr>\n",
       "    <tr>\n",
       "      <th>84671</th>\n",
       "      <td>TRADE</td>\n",
       "      <td>VIC1</td>\n",
       "      <td>54.41</td>\n",
       "      <td>2020/10/30 00:00:00</td>\n",
       "      <td>4454.78</td>\n",
       "    </tr>\n",
       "  </tbody>\n",
       "</table>\n",
       "</div>"
      ],
      "text/plain": [
       "      PERIODTYPE REGION    RRP       SETTLEMENTDATE  TOTALDEMAND\n",
       "84667      TRADE   VIC1  47.98  2020/10/29 22:00:00      4446.18\n",
       "84668      TRADE   VIC1  54.33  2020/10/29 22:30:00      4353.45\n",
       "84669      TRADE   VIC1  51.07  2020/10/29 23:00:00      4293.65\n",
       "84670      TRADE   VIC1  56.93  2020/10/29 23:30:00      4479.59\n",
       "84671      TRADE   VIC1  54.41  2020/10/30 00:00:00      4454.78"
      ]
     },
     "execution_count": 27,
     "metadata": {},
     "output_type": "execute_result"
    }
   ],
   "source": [
    "demand.tail()"
   ]
  },
  {
   "cell_type": "code",
   "execution_count": 28,
   "metadata": {},
   "outputs": [],
   "source": [
    "demand=demand.drop(columns=['PERIODTYPE', 'REGION','RRP'])\n",
    "demand=demand.rename(columns={'TOTALDEMAND': 'demand','SETTLEMENTDATE': 'date'})\n",
    "demand.index=pd.to_datetime(demand['date'])\n",
    "demand=demand.drop(columns=['date'])\n"
   ]
  },
  {
   "cell_type": "markdown",
   "metadata": {},
   "source": [
    "## 1.3 Victoria Day Length\n",
    "demand:  [Sunrise and Sunset in Melbourne](https://www.timeanddate.com/sun/australia/melbourne)"
   ]
  },
  {
   "cell_type": "code",
   "execution_count": 29,
   "metadata": {},
   "outputs": [],
   "source": [
    "day_length=pd.read_csv('2016-2020.10-daylength-new.csv')"
   ]
  },
  {
   "cell_type": "code",
   "execution_count": 30,
   "metadata": {},
   "outputs": [
    {
     "data": {
      "text/html": [
       "<div>\n",
       "<style scoped>\n",
       "    .dataframe tbody tr th:only-of-type {\n",
       "        vertical-align: middle;\n",
       "    }\n",
       "\n",
       "    .dataframe tbody tr th {\n",
       "        vertical-align: top;\n",
       "    }\n",
       "\n",
       "    .dataframe thead th {\n",
       "        text-align: right;\n",
       "    }\n",
       "</style>\n",
       "<table border=\"1\" class=\"dataframe\">\n",
       "  <thead>\n",
       "    <tr style=\"text-align: right;\">\n",
       "      <th></th>\n",
       "      <th>date</th>\n",
       "      <th>daylight</th>\n",
       "    </tr>\n",
       "  </thead>\n",
       "  <tbody>\n",
       "    <tr>\n",
       "      <th>0</th>\n",
       "      <td>2016/01/01</td>\n",
       "      <td>14:44:19</td>\n",
       "    </tr>\n",
       "    <tr>\n",
       "      <th>1</th>\n",
       "      <td>2016/01/02</td>\n",
       "      <td>14:43:40</td>\n",
       "    </tr>\n",
       "    <tr>\n",
       "      <th>2</th>\n",
       "      <td>2016/01/03</td>\n",
       "      <td>14:42:58</td>\n",
       "    </tr>\n",
       "    <tr>\n",
       "      <th>3</th>\n",
       "      <td>2016/01/04</td>\n",
       "      <td>14:42:12</td>\n",
       "    </tr>\n",
       "    <tr>\n",
       "      <th>4</th>\n",
       "      <td>2016/01/05</td>\n",
       "      <td>14:41:23</td>\n",
       "    </tr>\n",
       "  </tbody>\n",
       "</table>\n",
       "</div>"
      ],
      "text/plain": [
       "         date  daylight\n",
       "0  2016/01/01  14:44:19\n",
       "1  2016/01/02  14:43:40\n",
       "2  2016/01/03  14:42:58\n",
       "3  2016/01/04  14:42:12\n",
       "4  2016/01/05  14:41:23"
      ]
     },
     "execution_count": 30,
     "metadata": {},
     "output_type": "execute_result"
    }
   ],
   "source": [
    "day_length.head()"
   ]
  },
  {
   "cell_type": "code",
   "execution_count": 31,
   "metadata": {},
   "outputs": [
    {
     "data": {
      "text/html": [
       "<div>\n",
       "<style scoped>\n",
       "    .dataframe tbody tr th:only-of-type {\n",
       "        vertical-align: middle;\n",
       "    }\n",
       "\n",
       "    .dataframe tbody tr th {\n",
       "        vertical-align: top;\n",
       "    }\n",
       "\n",
       "    .dataframe thead th {\n",
       "        text-align: right;\n",
       "    }\n",
       "</style>\n",
       "<table border=\"1\" class=\"dataframe\">\n",
       "  <thead>\n",
       "    <tr style=\"text-align: right;\">\n",
       "      <th></th>\n",
       "      <th>date</th>\n",
       "      <th>daylight</th>\n",
       "    </tr>\n",
       "  </thead>\n",
       "  <tbody>\n",
       "    <tr>\n",
       "      <th>1760</th>\n",
       "      <td>2020/10/26</td>\n",
       "      <td>13:28:18</td>\n",
       "    </tr>\n",
       "    <tr>\n",
       "      <th>1761</th>\n",
       "      <td>2020/10/27</td>\n",
       "      <td>13:30:35</td>\n",
       "    </tr>\n",
       "    <tr>\n",
       "      <th>1762</th>\n",
       "      <td>2020/10/28</td>\n",
       "      <td>13:32:50</td>\n",
       "    </tr>\n",
       "    <tr>\n",
       "      <th>1763</th>\n",
       "      <td>2020/10/29</td>\n",
       "      <td>13:35:05</td>\n",
       "    </tr>\n",
       "    <tr>\n",
       "      <th>1764</th>\n",
       "      <td>2020/10/30</td>\n",
       "      <td>13:37:18</td>\n",
       "    </tr>\n",
       "  </tbody>\n",
       "</table>\n",
       "</div>"
      ],
      "text/plain": [
       "            date  daylight\n",
       "1760  2020/10/26  13:28:18\n",
       "1761  2020/10/27  13:30:35\n",
       "1762  2020/10/28  13:32:50\n",
       "1763  2020/10/29  13:35:05\n",
       "1764  2020/10/30  13:37:18"
      ]
     },
     "execution_count": 31,
     "metadata": {},
     "output_type": "execute_result"
    }
   ],
   "source": [
    "day_length.tail()"
   ]
  },
  {
   "cell_type": "code",
   "execution_count": 32,
   "metadata": {},
   "outputs": [],
   "source": [
    "#Caculate day length in minutes\n",
    "def time_to_minutes(time):\n",
    "    t1=int(time.split(':')[0])\n",
    "    t2=int(time.split(':')[1])\n",
    "    t3=int(time.split(':')[2])\n",
    "    minutes=round(t1*60+t2+t3/60,2)\n",
    "    return minutes"
   ]
  },
  {
   "cell_type": "code",
   "execution_count": 33,
   "metadata": {},
   "outputs": [],
   "source": [
    "# time_to_minutes(day_length['daylight'][0])"
   ]
  },
  {
   "cell_type": "code",
   "execution_count": 34,
   "metadata": {},
   "outputs": [],
   "source": [
    "day_length['day_length_mins']=day_length['daylight'].apply(lambda x: time_to_minutes(x))"
   ]
  },
  {
   "cell_type": "code",
   "execution_count": 35,
   "metadata": {},
   "outputs": [
    {
     "data": {
      "text/html": [
       "<div>\n",
       "<style scoped>\n",
       "    .dataframe tbody tr th:only-of-type {\n",
       "        vertical-align: middle;\n",
       "    }\n",
       "\n",
       "    .dataframe tbody tr th {\n",
       "        vertical-align: top;\n",
       "    }\n",
       "\n",
       "    .dataframe thead th {\n",
       "        text-align: right;\n",
       "    }\n",
       "</style>\n",
       "<table border=\"1\" class=\"dataframe\">\n",
       "  <thead>\n",
       "    <tr style=\"text-align: right;\">\n",
       "      <th></th>\n",
       "      <th>date</th>\n",
       "      <th>daylight</th>\n",
       "      <th>day_length_mins</th>\n",
       "    </tr>\n",
       "  </thead>\n",
       "  <tbody>\n",
       "    <tr>\n",
       "      <th>1735</th>\n",
       "      <td>2020/10/01</td>\n",
       "      <td>12:28:53</td>\n",
       "      <td>748.88</td>\n",
       "    </tr>\n",
       "    <tr>\n",
       "      <th>1736</th>\n",
       "      <td>2020/10/02</td>\n",
       "      <td>12:31:18</td>\n",
       "      <td>751.30</td>\n",
       "    </tr>\n",
       "    <tr>\n",
       "      <th>1737</th>\n",
       "      <td>2020/10/03</td>\n",
       "      <td>12:33:43</td>\n",
       "      <td>753.72</td>\n",
       "    </tr>\n",
       "    <tr>\n",
       "      <th>1738</th>\n",
       "      <td>2020/10/04</td>\n",
       "      <td>12:36:09</td>\n",
       "      <td>756.15</td>\n",
       "    </tr>\n",
       "    <tr>\n",
       "      <th>1739</th>\n",
       "      <td>2020/10/05</td>\n",
       "      <td>12:38:34</td>\n",
       "      <td>758.57</td>\n",
       "    </tr>\n",
       "    <tr>\n",
       "      <th>1740</th>\n",
       "      <td>2020/10/06</td>\n",
       "      <td>12:40:59</td>\n",
       "      <td>760.98</td>\n",
       "    </tr>\n",
       "    <tr>\n",
       "      <th>1741</th>\n",
       "      <td>2020/10/07</td>\n",
       "      <td>12:43:24</td>\n",
       "      <td>763.40</td>\n",
       "    </tr>\n",
       "    <tr>\n",
       "      <th>1742</th>\n",
       "      <td>2020/10/08</td>\n",
       "      <td>12:45:49</td>\n",
       "      <td>765.82</td>\n",
       "    </tr>\n",
       "    <tr>\n",
       "      <th>1743</th>\n",
       "      <td>2020/10/09</td>\n",
       "      <td>12:48:13</td>\n",
       "      <td>768.22</td>\n",
       "    </tr>\n",
       "    <tr>\n",
       "      <th>1744</th>\n",
       "      <td>2020/10/10</td>\n",
       "      <td>12:50:38</td>\n",
       "      <td>770.63</td>\n",
       "    </tr>\n",
       "    <tr>\n",
       "      <th>1745</th>\n",
       "      <td>2020/10/11</td>\n",
       "      <td>12:53:02</td>\n",
       "      <td>773.03</td>\n",
       "    </tr>\n",
       "    <tr>\n",
       "      <th>1746</th>\n",
       "      <td>2020/10/12</td>\n",
       "      <td>12:55:26</td>\n",
       "      <td>775.43</td>\n",
       "    </tr>\n",
       "    <tr>\n",
       "      <th>1747</th>\n",
       "      <td>2020/10/13</td>\n",
       "      <td>12:57:50</td>\n",
       "      <td>777.83</td>\n",
       "    </tr>\n",
       "    <tr>\n",
       "      <th>1748</th>\n",
       "      <td>2020/10/14</td>\n",
       "      <td>13:00:13</td>\n",
       "      <td>780.22</td>\n",
       "    </tr>\n",
       "    <tr>\n",
       "      <th>1749</th>\n",
       "      <td>2020/10/15</td>\n",
       "      <td>13:02:36</td>\n",
       "      <td>782.60</td>\n",
       "    </tr>\n",
       "    <tr>\n",
       "      <th>1750</th>\n",
       "      <td>2020/10/16</td>\n",
       "      <td>13:04:59</td>\n",
       "      <td>784.98</td>\n",
       "    </tr>\n",
       "    <tr>\n",
       "      <th>1751</th>\n",
       "      <td>2020/10/17</td>\n",
       "      <td>13:07:21</td>\n",
       "      <td>787.35</td>\n",
       "    </tr>\n",
       "    <tr>\n",
       "      <th>1752</th>\n",
       "      <td>2020/10/18</td>\n",
       "      <td>13:09:43</td>\n",
       "      <td>789.72</td>\n",
       "    </tr>\n",
       "    <tr>\n",
       "      <th>1753</th>\n",
       "      <td>2020/10/19</td>\n",
       "      <td>13:12:05</td>\n",
       "      <td>792.08</td>\n",
       "    </tr>\n",
       "    <tr>\n",
       "      <th>1754</th>\n",
       "      <td>2020/10/20</td>\n",
       "      <td>13:14:26</td>\n",
       "      <td>794.43</td>\n",
       "    </tr>\n",
       "    <tr>\n",
       "      <th>1755</th>\n",
       "      <td>2020/10/21</td>\n",
       "      <td>13:16:46</td>\n",
       "      <td>796.77</td>\n",
       "    </tr>\n",
       "    <tr>\n",
       "      <th>1756</th>\n",
       "      <td>2020/10/22</td>\n",
       "      <td>13:19:06</td>\n",
       "      <td>799.10</td>\n",
       "    </tr>\n",
       "    <tr>\n",
       "      <th>1757</th>\n",
       "      <td>2020/10/23</td>\n",
       "      <td>13:21:25</td>\n",
       "      <td>801.42</td>\n",
       "    </tr>\n",
       "    <tr>\n",
       "      <th>1758</th>\n",
       "      <td>2020/10/24</td>\n",
       "      <td>13:23:43</td>\n",
       "      <td>803.72</td>\n",
       "    </tr>\n",
       "    <tr>\n",
       "      <th>1759</th>\n",
       "      <td>2020/10/25</td>\n",
       "      <td>13:26:01</td>\n",
       "      <td>806.02</td>\n",
       "    </tr>\n",
       "    <tr>\n",
       "      <th>1760</th>\n",
       "      <td>2020/10/26</td>\n",
       "      <td>13:28:18</td>\n",
       "      <td>808.30</td>\n",
       "    </tr>\n",
       "    <tr>\n",
       "      <th>1761</th>\n",
       "      <td>2020/10/27</td>\n",
       "      <td>13:30:35</td>\n",
       "      <td>810.58</td>\n",
       "    </tr>\n",
       "    <tr>\n",
       "      <th>1762</th>\n",
       "      <td>2020/10/28</td>\n",
       "      <td>13:32:50</td>\n",
       "      <td>812.83</td>\n",
       "    </tr>\n",
       "    <tr>\n",
       "      <th>1763</th>\n",
       "      <td>2020/10/29</td>\n",
       "      <td>13:35:05</td>\n",
       "      <td>815.08</td>\n",
       "    </tr>\n",
       "    <tr>\n",
       "      <th>1764</th>\n",
       "      <td>2020/10/30</td>\n",
       "      <td>13:37:18</td>\n",
       "      <td>817.30</td>\n",
       "    </tr>\n",
       "  </tbody>\n",
       "</table>\n",
       "</div>"
      ],
      "text/plain": [
       "            date  daylight  day_length_mins\n",
       "1735  2020/10/01  12:28:53           748.88\n",
       "1736  2020/10/02  12:31:18           751.30\n",
       "1737  2020/10/03  12:33:43           753.72\n",
       "1738  2020/10/04  12:36:09           756.15\n",
       "1739  2020/10/05  12:38:34           758.57\n",
       "1740  2020/10/06  12:40:59           760.98\n",
       "1741  2020/10/07  12:43:24           763.40\n",
       "1742  2020/10/08  12:45:49           765.82\n",
       "1743  2020/10/09  12:48:13           768.22\n",
       "1744  2020/10/10  12:50:38           770.63\n",
       "1745  2020/10/11  12:53:02           773.03\n",
       "1746  2020/10/12  12:55:26           775.43\n",
       "1747  2020/10/13  12:57:50           777.83\n",
       "1748  2020/10/14  13:00:13           780.22\n",
       "1749  2020/10/15  13:02:36           782.60\n",
       "1750  2020/10/16  13:04:59           784.98\n",
       "1751  2020/10/17  13:07:21           787.35\n",
       "1752  2020/10/18  13:09:43           789.72\n",
       "1753  2020/10/19  13:12:05           792.08\n",
       "1754  2020/10/20  13:14:26           794.43\n",
       "1755  2020/10/21  13:16:46           796.77\n",
       "1756  2020/10/22  13:19:06           799.10\n",
       "1757  2020/10/23  13:21:25           801.42\n",
       "1758  2020/10/24  13:23:43           803.72\n",
       "1759  2020/10/25  13:26:01           806.02\n",
       "1760  2020/10/26  13:28:18           808.30\n",
       "1761  2020/10/27  13:30:35           810.58\n",
       "1762  2020/10/28  13:32:50           812.83\n",
       "1763  2020/10/29  13:35:05           815.08\n",
       "1764  2020/10/30  13:37:18           817.30"
      ]
     },
     "execution_count": 35,
     "metadata": {},
     "output_type": "execute_result"
    }
   ],
   "source": [
    "day_length.tail(30)"
   ]
  },
  {
   "cell_type": "code",
   "execution_count": 36,
   "metadata": {},
   "outputs": [],
   "source": [
    "day_length.index=pd.to_datetime(day_length['date'])\n",
    "day_length=day_length.drop(columns=['date'])"
   ]
  },
  {
   "cell_type": "code",
   "execution_count": 37,
   "metadata": {},
   "outputs": [
    {
     "data": {
      "text/html": [
       "<div>\n",
       "<style scoped>\n",
       "    .dataframe tbody tr th:only-of-type {\n",
       "        vertical-align: middle;\n",
       "    }\n",
       "\n",
       "    .dataframe tbody tr th {\n",
       "        vertical-align: top;\n",
       "    }\n",
       "\n",
       "    .dataframe thead th {\n",
       "        text-align: right;\n",
       "    }\n",
       "</style>\n",
       "<table border=\"1\" class=\"dataframe\">\n",
       "  <thead>\n",
       "    <tr style=\"text-align: right;\">\n",
       "      <th></th>\n",
       "      <th>daylight</th>\n",
       "      <th>day_length_mins</th>\n",
       "    </tr>\n",
       "    <tr>\n",
       "      <th>date</th>\n",
       "      <th></th>\n",
       "      <th></th>\n",
       "    </tr>\n",
       "  </thead>\n",
       "  <tbody>\n",
       "    <tr>\n",
       "      <th>2020-10-01</th>\n",
       "      <td>12:28:53</td>\n",
       "      <td>748.88</td>\n",
       "    </tr>\n",
       "    <tr>\n",
       "      <th>2020-10-02</th>\n",
       "      <td>12:31:18</td>\n",
       "      <td>751.30</td>\n",
       "    </tr>\n",
       "    <tr>\n",
       "      <th>2020-10-03</th>\n",
       "      <td>12:33:43</td>\n",
       "      <td>753.72</td>\n",
       "    </tr>\n",
       "    <tr>\n",
       "      <th>2020-10-04</th>\n",
       "      <td>12:36:09</td>\n",
       "      <td>756.15</td>\n",
       "    </tr>\n",
       "    <tr>\n",
       "      <th>2020-10-05</th>\n",
       "      <td>12:38:34</td>\n",
       "      <td>758.57</td>\n",
       "    </tr>\n",
       "    <tr>\n",
       "      <th>2020-10-06</th>\n",
       "      <td>12:40:59</td>\n",
       "      <td>760.98</td>\n",
       "    </tr>\n",
       "    <tr>\n",
       "      <th>2020-10-07</th>\n",
       "      <td>12:43:24</td>\n",
       "      <td>763.40</td>\n",
       "    </tr>\n",
       "    <tr>\n",
       "      <th>2020-10-08</th>\n",
       "      <td>12:45:49</td>\n",
       "      <td>765.82</td>\n",
       "    </tr>\n",
       "    <tr>\n",
       "      <th>2020-10-09</th>\n",
       "      <td>12:48:13</td>\n",
       "      <td>768.22</td>\n",
       "    </tr>\n",
       "    <tr>\n",
       "      <th>2020-10-10</th>\n",
       "      <td>12:50:38</td>\n",
       "      <td>770.63</td>\n",
       "    </tr>\n",
       "    <tr>\n",
       "      <th>2020-10-11</th>\n",
       "      <td>12:53:02</td>\n",
       "      <td>773.03</td>\n",
       "    </tr>\n",
       "    <tr>\n",
       "      <th>2020-10-12</th>\n",
       "      <td>12:55:26</td>\n",
       "      <td>775.43</td>\n",
       "    </tr>\n",
       "    <tr>\n",
       "      <th>2020-10-13</th>\n",
       "      <td>12:57:50</td>\n",
       "      <td>777.83</td>\n",
       "    </tr>\n",
       "    <tr>\n",
       "      <th>2020-10-14</th>\n",
       "      <td>13:00:13</td>\n",
       "      <td>780.22</td>\n",
       "    </tr>\n",
       "    <tr>\n",
       "      <th>2020-10-15</th>\n",
       "      <td>13:02:36</td>\n",
       "      <td>782.60</td>\n",
       "    </tr>\n",
       "    <tr>\n",
       "      <th>2020-10-16</th>\n",
       "      <td>13:04:59</td>\n",
       "      <td>784.98</td>\n",
       "    </tr>\n",
       "    <tr>\n",
       "      <th>2020-10-17</th>\n",
       "      <td>13:07:21</td>\n",
       "      <td>787.35</td>\n",
       "    </tr>\n",
       "    <tr>\n",
       "      <th>2020-10-18</th>\n",
       "      <td>13:09:43</td>\n",
       "      <td>789.72</td>\n",
       "    </tr>\n",
       "    <tr>\n",
       "      <th>2020-10-19</th>\n",
       "      <td>13:12:05</td>\n",
       "      <td>792.08</td>\n",
       "    </tr>\n",
       "    <tr>\n",
       "      <th>2020-10-20</th>\n",
       "      <td>13:14:26</td>\n",
       "      <td>794.43</td>\n",
       "    </tr>\n",
       "    <tr>\n",
       "      <th>2020-10-21</th>\n",
       "      <td>13:16:46</td>\n",
       "      <td>796.77</td>\n",
       "    </tr>\n",
       "    <tr>\n",
       "      <th>2020-10-22</th>\n",
       "      <td>13:19:06</td>\n",
       "      <td>799.10</td>\n",
       "    </tr>\n",
       "    <tr>\n",
       "      <th>2020-10-23</th>\n",
       "      <td>13:21:25</td>\n",
       "      <td>801.42</td>\n",
       "    </tr>\n",
       "    <tr>\n",
       "      <th>2020-10-24</th>\n",
       "      <td>13:23:43</td>\n",
       "      <td>803.72</td>\n",
       "    </tr>\n",
       "    <tr>\n",
       "      <th>2020-10-25</th>\n",
       "      <td>13:26:01</td>\n",
       "      <td>806.02</td>\n",
       "    </tr>\n",
       "    <tr>\n",
       "      <th>2020-10-26</th>\n",
       "      <td>13:28:18</td>\n",
       "      <td>808.30</td>\n",
       "    </tr>\n",
       "    <tr>\n",
       "      <th>2020-10-27</th>\n",
       "      <td>13:30:35</td>\n",
       "      <td>810.58</td>\n",
       "    </tr>\n",
       "    <tr>\n",
       "      <th>2020-10-28</th>\n",
       "      <td>13:32:50</td>\n",
       "      <td>812.83</td>\n",
       "    </tr>\n",
       "    <tr>\n",
       "      <th>2020-10-29</th>\n",
       "      <td>13:35:05</td>\n",
       "      <td>815.08</td>\n",
       "    </tr>\n",
       "    <tr>\n",
       "      <th>2020-10-30</th>\n",
       "      <td>13:37:18</td>\n",
       "      <td>817.30</td>\n",
       "    </tr>\n",
       "  </tbody>\n",
       "</table>\n",
       "</div>"
      ],
      "text/plain": [
       "            daylight  day_length_mins\n",
       "date                                 \n",
       "2020-10-01  12:28:53           748.88\n",
       "2020-10-02  12:31:18           751.30\n",
       "2020-10-03  12:33:43           753.72\n",
       "2020-10-04  12:36:09           756.15\n",
       "2020-10-05  12:38:34           758.57\n",
       "2020-10-06  12:40:59           760.98\n",
       "2020-10-07  12:43:24           763.40\n",
       "2020-10-08  12:45:49           765.82\n",
       "2020-10-09  12:48:13           768.22\n",
       "2020-10-10  12:50:38           770.63\n",
       "2020-10-11  12:53:02           773.03\n",
       "2020-10-12  12:55:26           775.43\n",
       "2020-10-13  12:57:50           777.83\n",
       "2020-10-14  13:00:13           780.22\n",
       "2020-10-15  13:02:36           782.60\n",
       "2020-10-16  13:04:59           784.98\n",
       "2020-10-17  13:07:21           787.35\n",
       "2020-10-18  13:09:43           789.72\n",
       "2020-10-19  13:12:05           792.08\n",
       "2020-10-20  13:14:26           794.43\n",
       "2020-10-21  13:16:46           796.77\n",
       "2020-10-22  13:19:06           799.10\n",
       "2020-10-23  13:21:25           801.42\n",
       "2020-10-24  13:23:43           803.72\n",
       "2020-10-25  13:26:01           806.02\n",
       "2020-10-26  13:28:18           808.30\n",
       "2020-10-27  13:30:35           810.58\n",
       "2020-10-28  13:32:50           812.83\n",
       "2020-10-29  13:35:05           815.08\n",
       "2020-10-30  13:37:18           817.30"
      ]
     },
     "execution_count": 37,
     "metadata": {},
     "output_type": "execute_result"
    }
   ],
   "source": [
    "day_length.tail(30)"
   ]
  },
  {
   "cell_type": "code",
   "execution_count": 38,
   "metadata": {},
   "outputs": [
    {
     "data": {
      "text/html": [
       "<div>\n",
       "<style scoped>\n",
       "    .dataframe tbody tr th:only-of-type {\n",
       "        vertical-align: middle;\n",
       "    }\n",
       "\n",
       "    .dataframe tbody tr th {\n",
       "        vertical-align: top;\n",
       "    }\n",
       "\n",
       "    .dataframe thead th {\n",
       "        text-align: right;\n",
       "    }\n",
       "</style>\n",
       "<table border=\"1\" class=\"dataframe\">\n",
       "  <thead>\n",
       "    <tr style=\"text-align: right;\">\n",
       "      <th></th>\n",
       "      <th>daylight</th>\n",
       "      <th>day_length_mins</th>\n",
       "    </tr>\n",
       "    <tr>\n",
       "      <th>date</th>\n",
       "      <th></th>\n",
       "      <th></th>\n",
       "    </tr>\n",
       "  </thead>\n",
       "  <tbody>\n",
       "    <tr>\n",
       "      <th>2020-10-12</th>\n",
       "      <td>12:55:26</td>\n",
       "      <td>775.43</td>\n",
       "    </tr>\n",
       "  </tbody>\n",
       "</table>\n",
       "</div>"
      ],
      "text/plain": [
       "            daylight  day_length_mins\n",
       "date                                 \n",
       "2020-10-12  12:55:26           775.43"
      ]
     },
     "execution_count": 38,
     "metadata": {},
     "output_type": "execute_result"
    }
   ],
   "source": [
    "day_length[day_length.index=='2020-10-12']"
   ]
  },
  {
   "cell_type": "code",
   "execution_count": 39,
   "metadata": {},
   "outputs": [
    {
     "data": {
      "image/png": "[encoded data removed]",
      "text/plain": [
       "<Figure size 864x288 with 1 Axes>"
      ]
     },
     "metadata": {
      "needs_background": "light"
     },
     "output_type": "display_data"
    }
   ],
   "source": [
    "title='Melbourne Daily Length in Minutes'\n",
    "ylabel='Daily Length (min)'\n",
    "xlabel='Date'\n",
    "\n",
    "ax = day_length['day_length_mins'].plot(figsize=(12,4),title=title)\n",
    "ax.autoscale(axis='x',tight=True)\n",
    "ax.set(xlabel=xlabel, ylabel=ylabel);"
   ]
  },
  {
   "cell_type": "markdown",
   "metadata": {},
   "source": [
    "## 1.4 Victoria Public Holidays\n",
    "holiday:  [2016-2020-Australia Public Holidays](https://data.gov.au/dataset/ds-dga-b1bc6077-dadd-4f61-9f8c-002ab2cdff10/details)"
   ]
  },
  {
   "cell_type": "code",
   "execution_count": 40,
   "metadata": {},
   "outputs": [],
   "source": [
    "# 2016-2018 have different format with 2019-2020\n",
    "# path = r'C:\\Users\\syxsw\\MLProjects\\Australia_Electricity\\2016-2020 AU Public Holiday' \n",
    "# all_files = glob.glob(path + \"/*.csv\")\n",
    "\n",
    "# lst = []\n",
    "\n",
    "# for filename in all_files:\n",
    "#     df = pd.read_csv(filename, index_col=None, header=0)\n",
    "#     lst.append(df)\n",
    "\n",
    "# holiday = pd.concat(lst, axis=0, ignore_index=True)"
   ]
  },
  {
   "cell_type": "code",
   "execution_count": 41,
   "metadata": {},
   "outputs": [],
   "source": [
    "h1=pd.read_csv(r'C:/Users/syxsw/MLProjects/Australia_Electricity/2016-2020 AU Public Holiday/australianpublicholidays-201617.csv')\n",
    "h2=pd.read_csv(r'C:/Users/syxsw/MLProjects/Australia_Electricity/2016-2020 AU Public Holiday/australianpublicholidays-201718.csv')"
   ]
  },
  {
   "cell_type": "code",
   "execution_count": 42,
   "metadata": {},
   "outputs": [
    {
     "data": {
      "text/html": [
       "<div>\n",
       "<style scoped>\n",
       "    .dataframe tbody tr th:only-of-type {\n",
       "        vertical-align: middle;\n",
       "    }\n",
       "\n",
       "    .dataframe tbody tr th {\n",
       "        vertical-align: top;\n",
       "    }\n",
       "\n",
       "    .dataframe thead th {\n",
       "        text-align: right;\n",
       "    }\n",
       "</style>\n",
       "<table border=\"1\" class=\"dataframe\">\n",
       "  <thead>\n",
       "    <tr style=\"text-align: right;\">\n",
       "      <th></th>\n",
       "      <th>Date</th>\n",
       "      <th>Holiday Name</th>\n",
       "      <th>Information</th>\n",
       "      <th>More Information</th>\n",
       "      <th>Applicable To</th>\n",
       "    </tr>\n",
       "  </thead>\n",
       "  <tbody>\n",
       "    <tr>\n",
       "      <th>0</th>\n",
       "      <td>20160101</td>\n",
       "      <td>New Year's Day</td>\n",
       "      <td>New Year's Day is the first day of the calenda...</td>\n",
       "      <td>NaN</td>\n",
       "      <td>NAT</td>\n",
       "    </tr>\n",
       "    <tr>\n",
       "      <th>1</th>\n",
       "      <td>20160126</td>\n",
       "      <td>Australia Day</td>\n",
       "      <td>Always celebrated on 26 January</td>\n",
       "      <td>NaN</td>\n",
       "      <td>NAT</td>\n",
       "    </tr>\n",
       "    <tr>\n",
       "      <th>2</th>\n",
       "      <td>20160307</td>\n",
       "      <td>Labour Day</td>\n",
       "      <td>Always on a Monday, creating a long weekend. I...</td>\n",
       "      <td>http://www.commerce.wa.gov.au/labour-relations...</td>\n",
       "      <td>WA</td>\n",
       "    </tr>\n",
       "    <tr>\n",
       "      <th>3</th>\n",
       "      <td>20160314</td>\n",
       "      <td>March public holiday</td>\n",
       "      <td>The Holidays Act 1910 provides for the third M...</td>\n",
       "      <td>http://www.safework.sa.gov.au/show_page.jsp?id...</td>\n",
       "      <td>SA</td>\n",
       "    </tr>\n",
       "    <tr>\n",
       "      <th>4</th>\n",
       "      <td>20160314</td>\n",
       "      <td>Canberra Day</td>\n",
       "      <td>Held on the second Monday of March each year i...</td>\n",
       "      <td>http://www.cmd.act.gov.au/communication/holidays</td>\n",
       "      <td>ACT</td>\n",
       "    </tr>\n",
       "  </tbody>\n",
       "</table>\n",
       "</div>"
      ],
      "text/plain": [
       "       Date          Holiday Name  \\\n",
       "0  20160101        New Year's Day   \n",
       "1  20160126         Australia Day   \n",
       "2  20160307            Labour Day   \n",
       "3  20160314  March public holiday   \n",
       "4  20160314          Canberra Day   \n",
       "\n",
       "                                         Information  \\\n",
       "0  New Year's Day is the first day of the calenda...   \n",
       "1                    Always celebrated on 26 January   \n",
       "2  Always on a Monday, creating a long weekend. I...   \n",
       "3  The Holidays Act 1910 provides for the third M...   \n",
       "4  Held on the second Monday of March each year i...   \n",
       "\n",
       "                                    More Information Applicable To  \n",
       "0                                                NaN           NAT  \n",
       "1                                                NaN           NAT  \n",
       "2  http://www.commerce.wa.gov.au/labour-relations...            WA  \n",
       "3  http://www.safework.sa.gov.au/show_page.jsp?id...            SA  \n",
       "4   http://www.cmd.act.gov.au/communication/holidays           ACT  "
      ]
     },
     "execution_count": 42,
     "metadata": {},
     "output_type": "execute_result"
    }
   ],
   "source": [
    "h1.head()"
   ]
  },
  {
   "cell_type": "code",
   "execution_count": 43,
   "metadata": {},
   "outputs": [
    {
     "data": {
      "text/html": [
       "<div>\n",
       "<style scoped>\n",
       "    .dataframe tbody tr th:only-of-type {\n",
       "        vertical-align: middle;\n",
       "    }\n",
       "\n",
       "    .dataframe tbody tr th {\n",
       "        vertical-align: top;\n",
       "    }\n",
       "\n",
       "    .dataframe thead th {\n",
       "        text-align: right;\n",
       "    }\n",
       "</style>\n",
       "<table border=\"1\" class=\"dataframe\">\n",
       "  <thead>\n",
       "    <tr style=\"text-align: right;\">\n",
       "      <th></th>\n",
       "      <th>Date</th>\n",
       "      <th>Holiday Name</th>\n",
       "      <th>Information</th>\n",
       "      <th>More Information</th>\n",
       "      <th>Applicable To</th>\n",
       "    </tr>\n",
       "  </thead>\n",
       "  <tbody>\n",
       "    <tr>\n",
       "      <th>0</th>\n",
       "      <td>20170101</td>\n",
       "      <td>New Year's Day</td>\n",
       "      <td>New Year's Day is the first day of the calenda...</td>\n",
       "      <td>NaN</td>\n",
       "      <td>NAT</td>\n",
       "    </tr>\n",
       "    <tr>\n",
       "      <th>1</th>\n",
       "      <td>20170102</td>\n",
       "      <td>Additional day</td>\n",
       "      <td>NaN</td>\n",
       "      <td>NaN</td>\n",
       "      <td>NAT</td>\n",
       "    </tr>\n",
       "    <tr>\n",
       "      <th>2</th>\n",
       "      <td>20170126</td>\n",
       "      <td>Australia Day</td>\n",
       "      <td>Always celebrated on 26 January</td>\n",
       "      <td>NaN</td>\n",
       "      <td>NAT</td>\n",
       "    </tr>\n",
       "    <tr>\n",
       "      <th>3</th>\n",
       "      <td>20170212</td>\n",
       "      <td>Royal Hobart Regatta</td>\n",
       "      <td>NaN</td>\n",
       "      <td>NaN</td>\n",
       "      <td>TAS</td>\n",
       "    </tr>\n",
       "    <tr>\n",
       "      <th>4</th>\n",
       "      <td>20170306</td>\n",
       "      <td>Labour Day</td>\n",
       "      <td>Always on a Monday, creating a long weekend. I...</td>\n",
       "      <td>http://www.commerce.wa.gov.au/labour-relations...</td>\n",
       "      <td>WA</td>\n",
       "    </tr>\n",
       "  </tbody>\n",
       "</table>\n",
       "</div>"
      ],
      "text/plain": [
       "       Date          Holiday Name  \\\n",
       "0  20170101        New Year's Day   \n",
       "1  20170102        Additional day   \n",
       "2  20170126         Australia Day   \n",
       "3  20170212  Royal Hobart Regatta   \n",
       "4  20170306            Labour Day   \n",
       "\n",
       "                                         Information  \\\n",
       "0  New Year's Day is the first day of the calenda...   \n",
       "1                                                NaN   \n",
       "2                    Always celebrated on 26 January   \n",
       "3                                                NaN   \n",
       "4  Always on a Monday, creating a long weekend. I...   \n",
       "\n",
       "                                    More Information Applicable To  \n",
       "0                                                NaN           NAT  \n",
       "1                                                NaN           NAT  \n",
       "2                                                NaN           NAT  \n",
       "3                                                NaN           TAS  \n",
       "4  http://www.commerce.wa.gov.au/labour-relations...            WA  "
      ]
     },
     "execution_count": 43,
     "metadata": {},
     "output_type": "execute_result"
    }
   ],
   "source": [
    "h2.head()"
   ]
  },
  {
   "cell_type": "code",
   "execution_count": 44,
   "metadata": {},
   "outputs": [
    {
     "data": {
      "text/plain": [
       "NAT                          13\n",
       "SA                            9\n",
       "WA                            7\n",
       "VIC                           6\n",
       "NT                            4\n",
       "TAS                           4\n",
       "ACT                           4\n",
       "QLD                           4\n",
       "ACT|NSW|SA                    2\n",
       "ACT|NSW|NT|SA|TAS|VIC         2\n",
       "ACT|NSW|NT|QLD|WA|TAS|VIC     2\n",
       "ACT|NSW|VIC                   2\n",
       "ACT|NSW|SA|VIC|QLD|NT         1\n",
       "ACT|NSW|SA|QLD|NT|VIC         1\n",
       "ACT|TAS|VIC|NSW|QLD|NT|WA     1\n",
       "Name: Applicable To, dtype: int64"
      ]
     },
     "execution_count": 44,
     "metadata": {},
     "output_type": "execute_result"
    }
   ],
   "source": [
    "h1['Applicable To'].value_counts()"
   ]
  },
  {
   "cell_type": "code",
   "execution_count": 45,
   "metadata": {},
   "outputs": [
    {
     "data": {
      "text/plain": [
       "Index(['NAT', 'SA', 'WA', 'VIC', 'NT', 'TAS', 'ACT', 'QLD', 'ACT|NSW|SA',\n",
       "       'ACT|NSW|NT|SA|TAS|VIC', 'ACT|NSW|NT|QLD|WA|TAS|VIC', 'ACT|NSW|VIC',\n",
       "       'ACT|NSW|SA|VIC|QLD|NT', 'ACT|NSW|SA|QLD|NT|VIC',\n",
       "       'ACT|TAS|VIC|NSW|QLD|NT|WA'],\n",
       "      dtype='object')"
      ]
     },
     "execution_count": 45,
     "metadata": {},
     "output_type": "execute_result"
    }
   ],
   "source": [
    "h1['Applicable To'].value_counts().index"
   ]
  },
  {
   "cell_type": "code",
   "execution_count": 46,
   "metadata": {},
   "outputs": [],
   "source": [
    "vic_list=['VIC','ACT|NSW|NT|QLD|WA|TAS|VIC', 'ACT|NSW|VIC', 'ACT|NSW|NT|SA|TAS|VIC',\n",
    "             'ACT|TAS|VIC|NSW|QLD|NT|WA', 'ACT|NSW|SA|QLD|NT|VIC','ACT|NSW|SA|VIC|QLD|NT']"
   ]
  },
  {
   "cell_type": "code",
   "execution_count": 47,
   "metadata": {},
   "outputs": [],
   "source": [
    "h1['isholiday']=0"
   ]
  },
  {
   "cell_type": "code",
   "execution_count": 48,
   "metadata": {},
   "outputs": [],
   "source": [
    "h1=h1[h1['Applicable To'].isin(vic_list)]"
   ]
  },
  {
   "cell_type": "code",
   "execution_count": 49,
   "metadata": {},
   "outputs": [],
   "source": [
    "h1['isholiday'] = 1"
   ]
  },
  {
   "cell_type": "code",
   "execution_count": 50,
   "metadata": {},
   "outputs": [
    {
     "data": {
      "text/plain": [
       "NAT                          13\n",
       "VIC                           6\n",
       "TAS                           6\n",
       "WA                            6\n",
       "NT                            4\n",
       "ACT                           4\n",
       "QLD                           4\n",
       "NT|SA                         4\n",
       "SA                            4\n",
       "ACT|NSW|SA                    2\n",
       "ACT|NSW|NT|SA|TAS|VIC         2\n",
       "ACT|NSW|NT|QLD|SA|VIC         2\n",
       "ACT|NSW|NT|QLD|TAS|VIC|WA     2\n",
       "NSW                           2\n",
       "ACT|NSW|QLD|VIC               2\n",
       "Name: Applicable To, dtype: int64"
      ]
     },
     "execution_count": 50,
     "metadata": {},
     "output_type": "execute_result"
    }
   ],
   "source": [
    "h2['Applicable To'].value_counts()"
   ]
  },
  {
   "cell_type": "code",
   "execution_count": 51,
   "metadata": {},
   "outputs": [],
   "source": [
    "h2['isholiday']=0\n",
    "h2=h2[h2['Applicable To'].isin(vic_list)]\n",
    "h2['isholiday'] = 1"
   ]
  },
  {
   "cell_type": "code",
   "execution_count": 52,
   "metadata": {},
   "outputs": [
    {
     "data": {
      "text/html": [
       "<div>\n",
       "<style scoped>\n",
       "    .dataframe tbody tr th:only-of-type {\n",
       "        vertical-align: middle;\n",
       "    }\n",
       "\n",
       "    .dataframe tbody tr th {\n",
       "        vertical-align: top;\n",
       "    }\n",
       "\n",
       "    .dataframe thead th {\n",
       "        text-align: right;\n",
       "    }\n",
       "</style>\n",
       "<table border=\"1\" class=\"dataframe\">\n",
       "  <thead>\n",
       "    <tr style=\"text-align: right;\">\n",
       "      <th></th>\n",
       "      <th>Date</th>\n",
       "      <th>Holiday Name</th>\n",
       "      <th>Information</th>\n",
       "      <th>More Information</th>\n",
       "      <th>Applicable To</th>\n",
       "      <th>isholiday</th>\n",
       "    </tr>\n",
       "  </thead>\n",
       "  <tbody>\n",
       "    <tr>\n",
       "      <th>8</th>\n",
       "      <td>20170313</td>\n",
       "      <td>Labour Day</td>\n",
       "      <td>Always on a Monday, creating a long weekend. I...</td>\n",
       "      <td>http://www.business.vic.gov.au/victorian-publi...</td>\n",
       "      <td>VIC</td>\n",
       "      <td>1</td>\n",
       "    </tr>\n",
       "    <tr>\n",
       "      <th>17</th>\n",
       "      <td>20170612</td>\n",
       "      <td>Queen's Birthday</td>\n",
       "      <td>Celebrated on second Monday in June except in ...</td>\n",
       "      <td>https://www.gg.gov.au/queens-birthday-2014-hon...</td>\n",
       "      <td>ACT|NSW|NT|SA|TAS|VIC</td>\n",
       "      <td>1</td>\n",
       "    </tr>\n",
       "    <tr>\n",
       "      <th>22</th>\n",
       "      <td>20170929</td>\n",
       "      <td>AFL Grand Final</td>\n",
       "      <td>Friday before the AFL Grand Final</td>\n",
       "      <td>NaN</td>\n",
       "      <td>VIC</td>\n",
       "      <td>1</td>\n",
       "    </tr>\n",
       "    <tr>\n",
       "      <th>26</th>\n",
       "      <td>20171107</td>\n",
       "      <td>Melbourne Cup</td>\n",
       "      <td>All of Victoria unless alternate local holiday...</td>\n",
       "      <td>http://www.business.vic.gov.au/victorian-publi...</td>\n",
       "      <td>VIC</td>\n",
       "      <td>1</td>\n",
       "    </tr>\n",
       "    <tr>\n",
       "      <th>39</th>\n",
       "      <td>20180312</td>\n",
       "      <td>Labour Day</td>\n",
       "      <td>Always on a Monday, creating a long weekend. I...</td>\n",
       "      <td>http://www.business.vic.gov.au/victorian-publi...</td>\n",
       "      <td>VIC</td>\n",
       "      <td>1</td>\n",
       "    </tr>\n",
       "    <tr>\n",
       "      <th>49</th>\n",
       "      <td>20180611</td>\n",
       "      <td>Queen's Birthday</td>\n",
       "      <td>Celebrated on second Monday in June except in ...</td>\n",
       "      <td>https://www.gg.gov.au/queens-birthday-2014-hon...</td>\n",
       "      <td>ACT|NSW|NT|SA|TAS|VIC</td>\n",
       "      <td>1</td>\n",
       "    </tr>\n",
       "    <tr>\n",
       "      <th>53</th>\n",
       "      <td>20180928</td>\n",
       "      <td>Friday before the AFL Grand Final</td>\n",
       "      <td>Friday before the AFL Grand Final</td>\n",
       "      <td>NaN</td>\n",
       "      <td>VIC</td>\n",
       "      <td>1</td>\n",
       "    </tr>\n",
       "    <tr>\n",
       "      <th>57</th>\n",
       "      <td>20181106</td>\n",
       "      <td>Melbourne Cup</td>\n",
       "      <td>All of Victoria unless alternate local holiday...</td>\n",
       "      <td>http://www.business.vic.gov.au/victorian-publi...</td>\n",
       "      <td>VIC</td>\n",
       "      <td>1</td>\n",
       "    </tr>\n",
       "  </tbody>\n",
       "</table>\n",
       "</div>"
      ],
      "text/plain": [
       "        Date                       Holiday Name  \\\n",
       "8   20170313                         Labour Day   \n",
       "17  20170612                   Queen's Birthday   \n",
       "22  20170929                    AFL Grand Final   \n",
       "26  20171107                      Melbourne Cup   \n",
       "39  20180312                         Labour Day   \n",
       "49  20180611                   Queen's Birthday   \n",
       "53  20180928  Friday before the AFL Grand Final   \n",
       "57  20181106                      Melbourne Cup   \n",
       "\n",
       "                                          Information  \\\n",
       "8   Always on a Monday, creating a long weekend. I...   \n",
       "17  Celebrated on second Monday in June except in ...   \n",
       "22                  Friday before the AFL Grand Final   \n",
       "26  All of Victoria unless alternate local holiday...   \n",
       "39  Always on a Monday, creating a long weekend. I...   \n",
       "49  Celebrated on second Monday in June except in ...   \n",
       "53                  Friday before the AFL Grand Final   \n",
       "57  All of Victoria unless alternate local holiday...   \n",
       "\n",
       "                                     More Information          Applicable To  \\\n",
       "8   http://www.business.vic.gov.au/victorian-publi...                    VIC   \n",
       "17  https://www.gg.gov.au/queens-birthday-2014-hon...  ACT|NSW|NT|SA|TAS|VIC   \n",
       "22                                                NaN                    VIC   \n",
       "26  http://www.business.vic.gov.au/victorian-publi...                    VIC   \n",
       "39  http://www.business.vic.gov.au/victorian-publi...                    VIC   \n",
       "49  https://www.gg.gov.au/queens-birthday-2014-hon...  ACT|NSW|NT|SA|TAS|VIC   \n",
       "53                                                NaN                    VIC   \n",
       "57  http://www.business.vic.gov.au/victorian-publi...                    VIC   \n",
       "\n",
       "    isholiday  \n",
       "8           1  \n",
       "17          1  \n",
       "22          1  \n",
       "26          1  \n",
       "39          1  \n",
       "49          1  \n",
       "53          1  \n",
       "57          1  "
      ]
     },
     "execution_count": 52,
     "metadata": {},
     "output_type": "execute_result"
    }
   ],
   "source": [
    "h2"
   ]
  },
  {
   "cell_type": "code",
   "execution_count": 53,
   "metadata": {},
   "outputs": [],
   "source": [
    "h12=pd.concat([h1,h2],ignore_index=True)"
   ]
  },
  {
   "cell_type": "code",
   "execution_count": 54,
   "metadata": {},
   "outputs": [],
   "source": [
    "h12=h12.drop(columns=['Holiday Name','Information','More Information','Applicable To'])"
   ]
  },
  {
   "cell_type": "code",
   "execution_count": 55,
   "metadata": {},
   "outputs": [
    {
     "data": {
      "text/html": [
       "<div>\n",
       "<style scoped>\n",
       "    .dataframe tbody tr th:only-of-type {\n",
       "        vertical-align: middle;\n",
       "    }\n",
       "\n",
       "    .dataframe tbody tr th {\n",
       "        vertical-align: top;\n",
       "    }\n",
       "\n",
       "    .dataframe thead th {\n",
       "        text-align: right;\n",
       "    }\n",
       "</style>\n",
       "<table border=\"1\" class=\"dataframe\">\n",
       "  <thead>\n",
       "    <tr style=\"text-align: right;\">\n",
       "      <th></th>\n",
       "      <th>Date</th>\n",
       "      <th>isholiday</th>\n",
       "    </tr>\n",
       "  </thead>\n",
       "  <tbody>\n",
       "    <tr>\n",
       "      <th>0</th>\n",
       "      <td>20160314</td>\n",
       "      <td>1</td>\n",
       "    </tr>\n",
       "    <tr>\n",
       "      <th>1</th>\n",
       "      <td>20160326</td>\n",
       "      <td>1</td>\n",
       "    </tr>\n",
       "    <tr>\n",
       "      <th>2</th>\n",
       "      <td>20160327</td>\n",
       "      <td>1</td>\n",
       "    </tr>\n",
       "    <tr>\n",
       "      <th>3</th>\n",
       "      <td>20160613</td>\n",
       "      <td>1</td>\n",
       "    </tr>\n",
       "    <tr>\n",
       "      <th>4</th>\n",
       "      <td>20160930</td>\n",
       "      <td>1</td>\n",
       "    </tr>\n",
       "    <tr>\n",
       "      <th>5</th>\n",
       "      <td>20161101</td>\n",
       "      <td>1</td>\n",
       "    </tr>\n",
       "    <tr>\n",
       "      <th>6</th>\n",
       "      <td>20161226</td>\n",
       "      <td>1</td>\n",
       "    </tr>\n",
       "    <tr>\n",
       "      <th>7</th>\n",
       "      <td>20161227</td>\n",
       "      <td>1</td>\n",
       "    </tr>\n",
       "    <tr>\n",
       "      <th>8</th>\n",
       "      <td>20170313</td>\n",
       "      <td>1</td>\n",
       "    </tr>\n",
       "    <tr>\n",
       "      <th>9</th>\n",
       "      <td>20170415</td>\n",
       "      <td>1</td>\n",
       "    </tr>\n",
       "    <tr>\n",
       "      <th>10</th>\n",
       "      <td>20170416</td>\n",
       "      <td>1</td>\n",
       "    </tr>\n",
       "    <tr>\n",
       "      <th>11</th>\n",
       "      <td>20170612</td>\n",
       "      <td>1</td>\n",
       "    </tr>\n",
       "    <tr>\n",
       "      <th>12</th>\n",
       "      <td>20170929</td>\n",
       "      <td>1</td>\n",
       "    </tr>\n",
       "    <tr>\n",
       "      <th>13</th>\n",
       "      <td>20171107</td>\n",
       "      <td>1</td>\n",
       "    </tr>\n",
       "    <tr>\n",
       "      <th>14</th>\n",
       "      <td>20171226</td>\n",
       "      <td>1</td>\n",
       "    </tr>\n",
       "    <tr>\n",
       "      <th>15</th>\n",
       "      <td>20170313</td>\n",
       "      <td>1</td>\n",
       "    </tr>\n",
       "    <tr>\n",
       "      <th>16</th>\n",
       "      <td>20170612</td>\n",
       "      <td>1</td>\n",
       "    </tr>\n",
       "    <tr>\n",
       "      <th>17</th>\n",
       "      <td>20170929</td>\n",
       "      <td>1</td>\n",
       "    </tr>\n",
       "    <tr>\n",
       "      <th>18</th>\n",
       "      <td>20171107</td>\n",
       "      <td>1</td>\n",
       "    </tr>\n",
       "    <tr>\n",
       "      <th>19</th>\n",
       "      <td>20180312</td>\n",
       "      <td>1</td>\n",
       "    </tr>\n",
       "    <tr>\n",
       "      <th>20</th>\n",
       "      <td>20180611</td>\n",
       "      <td>1</td>\n",
       "    </tr>\n",
       "    <tr>\n",
       "      <th>21</th>\n",
       "      <td>20180928</td>\n",
       "      <td>1</td>\n",
       "    </tr>\n",
       "    <tr>\n",
       "      <th>22</th>\n",
       "      <td>20181106</td>\n",
       "      <td>1</td>\n",
       "    </tr>\n",
       "  </tbody>\n",
       "</table>\n",
       "</div>"
      ],
      "text/plain": [
       "        Date  isholiday\n",
       "0   20160314          1\n",
       "1   20160326          1\n",
       "2   20160327          1\n",
       "3   20160613          1\n",
       "4   20160930          1\n",
       "5   20161101          1\n",
       "6   20161226          1\n",
       "7   20161227          1\n",
       "8   20170313          1\n",
       "9   20170415          1\n",
       "10  20170416          1\n",
       "11  20170612          1\n",
       "12  20170929          1\n",
       "13  20171107          1\n",
       "14  20171226          1\n",
       "15  20170313          1\n",
       "16  20170612          1\n",
       "17  20170929          1\n",
       "18  20171107          1\n",
       "19  20180312          1\n",
       "20  20180611          1\n",
       "21  20180928          1\n",
       "22  20181106          1"
      ]
     },
     "execution_count": 55,
     "metadata": {},
     "output_type": "execute_result"
    }
   ],
   "source": [
    "h12"
   ]
  },
  {
   "cell_type": "code",
   "execution_count": 56,
   "metadata": {},
   "outputs": [
    {
     "data": {
      "text/html": [
       "<div>\n",
       "<style scoped>\n",
       "    .dataframe tbody tr th:only-of-type {\n",
       "        vertical-align: middle;\n",
       "    }\n",
       "\n",
       "    .dataframe tbody tr th {\n",
       "        vertical-align: top;\n",
       "    }\n",
       "\n",
       "    .dataframe thead th {\n",
       "        text-align: right;\n",
       "    }\n",
       "</style>\n",
       "<table border=\"1\" class=\"dataframe\">\n",
       "  <thead>\n",
       "    <tr style=\"text-align: right;\">\n",
       "      <th></th>\n",
       "      <th>Date</th>\n",
       "      <th>Holiday Name</th>\n",
       "      <th>Information</th>\n",
       "      <th>Jurisdiction</th>\n",
       "      <th>More Information</th>\n",
       "      <th>Raw Date</th>\n",
       "    </tr>\n",
       "  </thead>\n",
       "  <tbody>\n",
       "    <tr>\n",
       "      <th>73</th>\n",
       "      <td>20190101</td>\n",
       "      <td>New Year's Day</td>\n",
       "      <td>New Year's Day is the first day of the calenda...</td>\n",
       "      <td>vic</td>\n",
       "      <td>http://www.business.vic.gov.au/victorian-publi...</td>\n",
       "      <td>1.546261e+09</td>\n",
       "    </tr>\n",
       "    <tr>\n",
       "      <th>74</th>\n",
       "      <td>20190128</td>\n",
       "      <td>Australia Day</td>\n",
       "      <td>Always celebrated on 26 January</td>\n",
       "      <td>vic</td>\n",
       "      <td>http://www.business.vic.gov.au/victorian-publi...</td>\n",
       "      <td>1.548594e+09</td>\n",
       "    </tr>\n",
       "    <tr>\n",
       "      <th>75</th>\n",
       "      <td>20190311</td>\n",
       "      <td>Labour Day</td>\n",
       "      <td>Always on a Monday, creating a long weekend. I...</td>\n",
       "      <td>vic</td>\n",
       "      <td>http://www.business.vic.gov.au/victorian-publi...</td>\n",
       "      <td>1.552223e+09</td>\n",
       "    </tr>\n",
       "    <tr>\n",
       "      <th>76</th>\n",
       "      <td>20190419</td>\n",
       "      <td>Good Friday</td>\n",
       "      <td>Easter is celebrated with Good Friday and East...</td>\n",
       "      <td>vic</td>\n",
       "      <td>http://www.business.vic.gov.au/victorian-publi...</td>\n",
       "      <td>1.555596e+09</td>\n",
       "    </tr>\n",
       "    <tr>\n",
       "      <th>77</th>\n",
       "      <td>20190420</td>\n",
       "      <td>Saturday before Easter Sunday</td>\n",
       "      <td>Easter Saturday is between Good Friday and Eas...</td>\n",
       "      <td>vic</td>\n",
       "      <td>http://www.business.vic.gov.au/victorian-publi...</td>\n",
       "      <td>1.555682e+09</td>\n",
       "    </tr>\n",
       "  </tbody>\n",
       "</table>\n",
       "</div>"
      ],
      "text/plain": [
       "        Date                   Holiday Name  \\\n",
       "73  20190101                 New Year's Day   \n",
       "74  20190128                  Australia Day   \n",
       "75  20190311                     Labour Day   \n",
       "76  20190419                    Good Friday   \n",
       "77  20190420  Saturday before Easter Sunday   \n",
       "\n",
       "                                          Information Jurisdiction  \\\n",
       "73  New Year's Day is the first day of the calenda...          vic   \n",
       "74                    Always celebrated on 26 January          vic   \n",
       "75  Always on a Monday, creating a long weekend. I...          vic   \n",
       "76  Easter is celebrated with Good Friday and East...          vic   \n",
       "77  Easter Saturday is between Good Friday and Eas...          vic   \n",
       "\n",
       "                                     More Information      Raw Date  \n",
       "73  http://www.business.vic.gov.au/victorian-publi...  1.546261e+09  \n",
       "74  http://www.business.vic.gov.au/victorian-publi...  1.548594e+09  \n",
       "75  http://www.business.vic.gov.au/victorian-publi...  1.552223e+09  \n",
       "76  http://www.business.vic.gov.au/victorian-publi...  1.555596e+09  \n",
       "77  http://www.business.vic.gov.au/victorian-publi...  1.555682e+09  "
      ]
     },
     "execution_count": 56,
     "metadata": {},
     "output_type": "execute_result"
    }
   ],
   "source": [
    "h3=pd.read_csv(r'C:/Users/syxsw/MLProjects/Australia_Electricity/2016-2020 AU Public Holiday/australian_public_holidays_2019.csv')\n",
    "h4=pd.read_csv(r'C:/Users/syxsw/MLProjects/Australia_Electricity/2016-2020 AU Public Holiday/australian_public_holidays_2020.csv')\n",
    "h34 = pd.concat([h3, h4], ignore_index=True)\n",
    "h34 = h34[h34['Jurisdiction']=='vic']\n",
    "h34.head()"
   ]
  },
  {
   "cell_type": "code",
   "execution_count": 57,
   "metadata": {},
   "outputs": [
    {
     "data": {
      "text/html": [
       "<div>\n",
       "<style scoped>\n",
       "    .dataframe tbody tr th:only-of-type {\n",
       "        vertical-align: middle;\n",
       "    }\n",
       "\n",
       "    .dataframe tbody tr th {\n",
       "        vertical-align: top;\n",
       "    }\n",
       "\n",
       "    .dataframe thead th {\n",
       "        text-align: right;\n",
       "    }\n",
       "</style>\n",
       "<table border=\"1\" class=\"dataframe\">\n",
       "  <thead>\n",
       "    <tr style=\"text-align: right;\">\n",
       "      <th></th>\n",
       "      <th>Date</th>\n",
       "      <th>Holiday Name</th>\n",
       "      <th>Information</th>\n",
       "      <th>Jurisdiction</th>\n",
       "      <th>More Information</th>\n",
       "      <th>Raw Date</th>\n",
       "    </tr>\n",
       "  </thead>\n",
       "  <tbody>\n",
       "    <tr>\n",
       "      <th>73</th>\n",
       "      <td>20190101</td>\n",
       "      <td>New Year's Day</td>\n",
       "      <td>New Year's Day is the first day of the calenda...</td>\n",
       "      <td>vic</td>\n",
       "      <td>http://www.business.vic.gov.au/victorian-publi...</td>\n",
       "      <td>1.546261e+09</td>\n",
       "    </tr>\n",
       "    <tr>\n",
       "      <th>74</th>\n",
       "      <td>20190128</td>\n",
       "      <td>Australia Day</td>\n",
       "      <td>Always celebrated on 26 January</td>\n",
       "      <td>vic</td>\n",
       "      <td>http://www.business.vic.gov.au/victorian-publi...</td>\n",
       "      <td>1.548594e+09</td>\n",
       "    </tr>\n",
       "    <tr>\n",
       "      <th>75</th>\n",
       "      <td>20190311</td>\n",
       "      <td>Labour Day</td>\n",
       "      <td>Always on a Monday, creating a long weekend. I...</td>\n",
       "      <td>vic</td>\n",
       "      <td>http://www.business.vic.gov.au/victorian-publi...</td>\n",
       "      <td>1.552223e+09</td>\n",
       "    </tr>\n",
       "    <tr>\n",
       "      <th>76</th>\n",
       "      <td>20190419</td>\n",
       "      <td>Good Friday</td>\n",
       "      <td>Easter is celebrated with Good Friday and East...</td>\n",
       "      <td>vic</td>\n",
       "      <td>http://www.business.vic.gov.au/victorian-publi...</td>\n",
       "      <td>1.555596e+09</td>\n",
       "    </tr>\n",
       "    <tr>\n",
       "      <th>77</th>\n",
       "      <td>20190420</td>\n",
       "      <td>Saturday before Easter Sunday</td>\n",
       "      <td>Easter Saturday is between Good Friday and Eas...</td>\n",
       "      <td>vic</td>\n",
       "      <td>http://www.business.vic.gov.au/victorian-publi...</td>\n",
       "      <td>1.555682e+09</td>\n",
       "    </tr>\n",
       "  </tbody>\n",
       "</table>\n",
       "</div>"
      ],
      "text/plain": [
       "        Date                   Holiday Name  \\\n",
       "73  20190101                 New Year's Day   \n",
       "74  20190128                  Australia Day   \n",
       "75  20190311                     Labour Day   \n",
       "76  20190419                    Good Friday   \n",
       "77  20190420  Saturday before Easter Sunday   \n",
       "\n",
       "                                          Information Jurisdiction  \\\n",
       "73  New Year's Day is the first day of the calenda...          vic   \n",
       "74                    Always celebrated on 26 January          vic   \n",
       "75  Always on a Monday, creating a long weekend. I...          vic   \n",
       "76  Easter is celebrated with Good Friday and East...          vic   \n",
       "77  Easter Saturday is between Good Friday and Eas...          vic   \n",
       "\n",
       "                                     More Information      Raw Date  \n",
       "73  http://www.business.vic.gov.au/victorian-publi...  1.546261e+09  \n",
       "74  http://www.business.vic.gov.au/victorian-publi...  1.548594e+09  \n",
       "75  http://www.business.vic.gov.au/victorian-publi...  1.552223e+09  \n",
       "76  http://www.business.vic.gov.au/victorian-publi...  1.555596e+09  \n",
       "77  http://www.business.vic.gov.au/victorian-publi...  1.555682e+09  "
      ]
     },
     "execution_count": 57,
     "metadata": {},
     "output_type": "execute_result"
    }
   ],
   "source": [
    "h34.head()"
   ]
  },
  {
   "cell_type": "code",
   "execution_count": 58,
   "metadata": {},
   "outputs": [
    {
     "data": {
      "text/html": [
       "<div>\n",
       "<style scoped>\n",
       "    .dataframe tbody tr th:only-of-type {\n",
       "        vertical-align: middle;\n",
       "    }\n",
       "\n",
       "    .dataframe tbody tr th {\n",
       "        vertical-align: top;\n",
       "    }\n",
       "\n",
       "    .dataframe thead th {\n",
       "        text-align: right;\n",
       "    }\n",
       "</style>\n",
       "<table border=\"1\" class=\"dataframe\">\n",
       "  <thead>\n",
       "    <tr style=\"text-align: right;\">\n",
       "      <th></th>\n",
       "      <th>Date</th>\n",
       "      <th>isholiday</th>\n",
       "    </tr>\n",
       "  </thead>\n",
       "  <tbody>\n",
       "    <tr>\n",
       "      <th>73</th>\n",
       "      <td>20190101</td>\n",
       "      <td>1</td>\n",
       "    </tr>\n",
       "    <tr>\n",
       "      <th>74</th>\n",
       "      <td>20190128</td>\n",
       "      <td>1</td>\n",
       "    </tr>\n",
       "    <tr>\n",
       "      <th>75</th>\n",
       "      <td>20190311</td>\n",
       "      <td>1</td>\n",
       "    </tr>\n",
       "    <tr>\n",
       "      <th>76</th>\n",
       "      <td>20190419</td>\n",
       "      <td>1</td>\n",
       "    </tr>\n",
       "    <tr>\n",
       "      <th>77</th>\n",
       "      <td>20190420</td>\n",
       "      <td>1</td>\n",
       "    </tr>\n",
       "  </tbody>\n",
       "</table>\n",
       "</div>"
      ],
      "text/plain": [
       "        Date  isholiday\n",
       "73  20190101          1\n",
       "74  20190128          1\n",
       "75  20190311          1\n",
       "76  20190419          1\n",
       "77  20190420          1"
      ]
     },
     "execution_count": 58,
     "metadata": {},
     "output_type": "execute_result"
    }
   ],
   "source": [
    "h34['isholiday']=1\n",
    "h34=h34.drop(columns=['Holiday Name','Information','Jurisdiction','More Information','Raw Date'])\n",
    "h34.head()"
   ]
  },
  {
   "cell_type": "code",
   "execution_count": 59,
   "metadata": {},
   "outputs": [],
   "source": [
    "holiday=pd.concat([h12,h34],ignore_index=True)"
   ]
  },
  {
   "cell_type": "code",
   "execution_count": 60,
   "metadata": {},
   "outputs": [],
   "source": [
    "holiday.to_csv(r'C:\\Users\\syxsw\\MLProjects\\Australia_Electricity\\2016-2020-AU-Holiday.csv')"
   ]
  },
  {
   "cell_type": "code",
   "execution_count": 61,
   "metadata": {},
   "outputs": [],
   "source": [
    "holiday.index=pd.to_datetime(holiday['Date'],format='%Y%m%d')\n",
    "holiday=holiday.drop(columns=['Date'])"
   ]
  },
  {
   "cell_type": "code",
   "execution_count": 62,
   "metadata": {},
   "outputs": [
    {
     "data": {
      "text/html": [
       "<div>\n",
       "<style scoped>\n",
       "    .dataframe tbody tr th:only-of-type {\n",
       "        vertical-align: middle;\n",
       "    }\n",
       "\n",
       "    .dataframe tbody tr th {\n",
       "        vertical-align: top;\n",
       "    }\n",
       "\n",
       "    .dataframe thead th {\n",
       "        text-align: right;\n",
       "    }\n",
       "</style>\n",
       "<table border=\"1\" class=\"dataframe\">\n",
       "  <thead>\n",
       "    <tr style=\"text-align: right;\">\n",
       "      <th></th>\n",
       "      <th>isholiday</th>\n",
       "    </tr>\n",
       "    <tr>\n",
       "      <th>Date</th>\n",
       "      <th></th>\n",
       "    </tr>\n",
       "  </thead>\n",
       "  <tbody>\n",
       "    <tr>\n",
       "      <th>2016-03-14</th>\n",
       "      <td>1</td>\n",
       "    </tr>\n",
       "    <tr>\n",
       "      <th>2016-03-26</th>\n",
       "      <td>1</td>\n",
       "    </tr>\n",
       "    <tr>\n",
       "      <th>2016-03-27</th>\n",
       "      <td>1</td>\n",
       "    </tr>\n",
       "    <tr>\n",
       "      <th>2016-06-13</th>\n",
       "      <td>1</td>\n",
       "    </tr>\n",
       "    <tr>\n",
       "      <th>2016-09-30</th>\n",
       "      <td>1</td>\n",
       "    </tr>\n",
       "  </tbody>\n",
       "</table>\n",
       "</div>"
      ],
      "text/plain": [
       "            isholiday\n",
       "Date                 \n",
       "2016-03-14          1\n",
       "2016-03-26          1\n",
       "2016-03-27          1\n",
       "2016-06-13          1\n",
       "2016-09-30          1"
      ]
     },
     "execution_count": 62,
     "metadata": {},
     "output_type": "execute_result"
    }
   ],
   "source": [
    "holiday.head()"
   ]
  },
  {
   "cell_type": "code",
   "execution_count": 63,
   "metadata": {},
   "outputs": [
    {
     "data": {
      "text/plain": [
       "(50, 1)"
      ]
     },
     "execution_count": 63,
     "metadata": {},
     "output_type": "execute_result"
    }
   ],
   "source": [
    "holiday.shape"
   ]
  },
  {
   "cell_type": "markdown",
   "metadata": {},
   "source": [
    "## 1.5 Merge temperature,demand,day_length and holiday"
   ]
  },
  {
   "cell_type": "code",
   "execution_count": 64,
   "metadata": {},
   "outputs": [
    {
     "data": {
      "text/html": [
       "<div>\n",
       "<style scoped>\n",
       "    .dataframe tbody tr th:only-of-type {\n",
       "        vertical-align: middle;\n",
       "    }\n",
       "\n",
       "    .dataframe tbody tr th {\n",
       "        vertical-align: top;\n",
       "    }\n",
       "\n",
       "    .dataframe thead th {\n",
       "        text-align: right;\n",
       "    }\n",
       "</style>\n",
       "<table border=\"1\" class=\"dataframe\">\n",
       "  <thead>\n",
       "    <tr style=\"text-align: right;\">\n",
       "      <th></th>\n",
       "      <th>demand</th>\n",
       "    </tr>\n",
       "    <tr>\n",
       "      <th>date</th>\n",
       "      <th></th>\n",
       "    </tr>\n",
       "  </thead>\n",
       "  <tbody>\n",
       "    <tr>\n",
       "      <th>2016-01-01 00:30:00</th>\n",
       "      <td>5197.34</td>\n",
       "    </tr>\n",
       "    <tr>\n",
       "      <th>2016-01-01 01:00:00</th>\n",
       "      <td>4934.54</td>\n",
       "    </tr>\n",
       "    <tr>\n",
       "      <th>2016-01-01 01:30:00</th>\n",
       "      <td>4721.32</td>\n",
       "    </tr>\n",
       "    <tr>\n",
       "      <th>2016-01-01 02:00:00</th>\n",
       "      <td>4541.24</td>\n",
       "    </tr>\n",
       "    <tr>\n",
       "      <th>2016-01-01 02:30:00</th>\n",
       "      <td>4344.18</td>\n",
       "    </tr>\n",
       "  </tbody>\n",
       "</table>\n",
       "</div>"
      ],
      "text/plain": [
       "                      demand\n",
       "date                        \n",
       "2016-01-01 00:30:00  5197.34\n",
       "2016-01-01 01:00:00  4934.54\n",
       "2016-01-01 01:30:00  4721.32\n",
       "2016-01-01 02:00:00  4541.24\n",
       "2016-01-01 02:30:00  4344.18"
      ]
     },
     "execution_count": 64,
     "metadata": {},
     "output_type": "execute_result"
    }
   ],
   "source": [
    "demand.head()"
   ]
  },
  {
   "cell_type": "markdown",
   "metadata": {},
   "source": [
    "<span style='color:red'>demand timeseries format(30-min) is different with the other three. Needs to be changed to daily format</span>"
   ]
  },
  {
   "cell_type": "code",
   "execution_count": 65,
   "metadata": {},
   "outputs": [],
   "source": [
    "demand=demand.reset_index()"
   ]
  },
  {
   "cell_type": "code",
   "execution_count": 66,
   "metadata": {},
   "outputs": [
    {
     "data": {
      "text/html": [
       "<div>\n",
       "<style scoped>\n",
       "    .dataframe tbody tr th:only-of-type {\n",
       "        vertical-align: middle;\n",
       "    }\n",
       "\n",
       "    .dataframe tbody tr th {\n",
       "        vertical-align: top;\n",
       "    }\n",
       "\n",
       "    .dataframe thead th {\n",
       "        text-align: right;\n",
       "    }\n",
       "</style>\n",
       "<table border=\"1\" class=\"dataframe\">\n",
       "  <thead>\n",
       "    <tr style=\"text-align: right;\">\n",
       "      <th></th>\n",
       "      <th>date</th>\n",
       "      <th>demand</th>\n",
       "    </tr>\n",
       "  </thead>\n",
       "  <tbody>\n",
       "    <tr>\n",
       "      <th>0</th>\n",
       "      <td>2016-01-01 00:30:00</td>\n",
       "      <td>5197.34</td>\n",
       "    </tr>\n",
       "    <tr>\n",
       "      <th>1</th>\n",
       "      <td>2016-01-01 01:00:00</td>\n",
       "      <td>4934.54</td>\n",
       "    </tr>\n",
       "    <tr>\n",
       "      <th>2</th>\n",
       "      <td>2016-01-01 01:30:00</td>\n",
       "      <td>4721.32</td>\n",
       "    </tr>\n",
       "    <tr>\n",
       "      <th>3</th>\n",
       "      <td>2016-01-01 02:00:00</td>\n",
       "      <td>4541.24</td>\n",
       "    </tr>\n",
       "    <tr>\n",
       "      <th>4</th>\n",
       "      <td>2016-01-01 02:30:00</td>\n",
       "      <td>4344.18</td>\n",
       "    </tr>\n",
       "  </tbody>\n",
       "</table>\n",
       "</div>"
      ],
      "text/plain": [
       "                 date   demand\n",
       "0 2016-01-01 00:30:00  5197.34\n",
       "1 2016-01-01 01:00:00  4934.54\n",
       "2 2016-01-01 01:30:00  4721.32\n",
       "3 2016-01-01 02:00:00  4541.24\n",
       "4 2016-01-01 02:30:00  4344.18"
      ]
     },
     "execution_count": 66,
     "metadata": {},
     "output_type": "execute_result"
    }
   ],
   "source": [
    "demand.head()"
   ]
  },
  {
   "cell_type": "code",
   "execution_count": 67,
   "metadata": {},
   "outputs": [],
   "source": [
    "demand['30min']=demand['date']"
   ]
  },
  {
   "cell_type": "code",
   "execution_count": 68,
   "metadata": {},
   "outputs": [],
   "source": [
    "demand.index=demand['date'].dt.date"
   ]
  },
  {
   "cell_type": "code",
   "execution_count": 69,
   "metadata": {},
   "outputs": [],
   "source": [
    "demand=demand.drop(columns='date')"
   ]
  },
  {
   "cell_type": "code",
   "execution_count": 70,
   "metadata": {},
   "outputs": [
    {
     "data": {
      "text/html": [
       "<div>\n",
       "<style scoped>\n",
       "    .dataframe tbody tr th:only-of-type {\n",
       "        vertical-align: middle;\n",
       "    }\n",
       "\n",
       "    .dataframe tbody tr th {\n",
       "        vertical-align: top;\n",
       "    }\n",
       "\n",
       "    .dataframe thead th {\n",
       "        text-align: right;\n",
       "    }\n",
       "</style>\n",
       "<table border=\"1\" class=\"dataframe\">\n",
       "  <thead>\n",
       "    <tr style=\"text-align: right;\">\n",
       "      <th></th>\n",
       "      <th>demand</th>\n",
       "      <th>30min</th>\n",
       "    </tr>\n",
       "    <tr>\n",
       "      <th>date</th>\n",
       "      <th></th>\n",
       "      <th></th>\n",
       "    </tr>\n",
       "  </thead>\n",
       "  <tbody>\n",
       "    <tr>\n",
       "      <th>2016-01-01</th>\n",
       "      <td>5197.34</td>\n",
       "      <td>2016-01-01 00:30:00</td>\n",
       "    </tr>\n",
       "    <tr>\n",
       "      <th>2016-01-01</th>\n",
       "      <td>4934.54</td>\n",
       "      <td>2016-01-01 01:00:00</td>\n",
       "    </tr>\n",
       "    <tr>\n",
       "      <th>2016-01-01</th>\n",
       "      <td>4721.32</td>\n",
       "      <td>2016-01-01 01:30:00</td>\n",
       "    </tr>\n",
       "    <tr>\n",
       "      <th>2016-01-01</th>\n",
       "      <td>4541.24</td>\n",
       "      <td>2016-01-01 02:00:00</td>\n",
       "    </tr>\n",
       "    <tr>\n",
       "      <th>2016-01-01</th>\n",
       "      <td>4344.18</td>\n",
       "      <td>2016-01-01 02:30:00</td>\n",
       "    </tr>\n",
       "  </tbody>\n",
       "</table>\n",
       "</div>"
      ],
      "text/plain": [
       "             demand               30min\n",
       "date                                   \n",
       "2016-01-01  5197.34 2016-01-01 00:30:00\n",
       "2016-01-01  4934.54 2016-01-01 01:00:00\n",
       "2016-01-01  4721.32 2016-01-01 01:30:00\n",
       "2016-01-01  4541.24 2016-01-01 02:00:00\n",
       "2016-01-01  4344.18 2016-01-01 02:30:00"
      ]
     },
     "execution_count": 70,
     "metadata": {},
     "output_type": "execute_result"
    }
   ],
   "source": [
    "demand.head()"
   ]
  },
  {
   "cell_type": "code",
   "execution_count": 71,
   "metadata": {},
   "outputs": [
    {
     "data": {
      "text/html": [
       "<div>\n",
       "<style scoped>\n",
       "    .dataframe tbody tr th:only-of-type {\n",
       "        vertical-align: middle;\n",
       "    }\n",
       "\n",
       "    .dataframe tbody tr th {\n",
       "        vertical-align: top;\n",
       "    }\n",
       "\n",
       "    .dataframe thead th {\n",
       "        text-align: right;\n",
       "    }\n",
       "</style>\n",
       "<table border=\"1\" class=\"dataframe\">\n",
       "  <thead>\n",
       "    <tr style=\"text-align: right;\">\n",
       "      <th></th>\n",
       "      <th>max_temp</th>\n",
       "      <th>min_temp</th>\n",
       "    </tr>\n",
       "  </thead>\n",
       "  <tbody>\n",
       "    <tr>\n",
       "      <th>2016-01-01</th>\n",
       "      <td>24.2</td>\n",
       "      <td>19.8</td>\n",
       "    </tr>\n",
       "    <tr>\n",
       "      <th>2016-01-02</th>\n",
       "      <td>27.6</td>\n",
       "      <td>17.1</td>\n",
       "    </tr>\n",
       "    <tr>\n",
       "      <th>2016-01-03</th>\n",
       "      <td>27.1</td>\n",
       "      <td>17.5</td>\n",
       "    </tr>\n",
       "    <tr>\n",
       "      <th>2016-01-04</th>\n",
       "      <td>26.0</td>\n",
       "      <td>16.3</td>\n",
       "    </tr>\n",
       "    <tr>\n",
       "      <th>2016-01-05</th>\n",
       "      <td>25.7</td>\n",
       "      <td>17.1</td>\n",
       "    </tr>\n",
       "  </tbody>\n",
       "</table>\n",
       "</div>"
      ],
      "text/plain": [
       "            max_temp  min_temp\n",
       "2016-01-01      24.2      19.8\n",
       "2016-01-02      27.6      17.1\n",
       "2016-01-03      27.1      17.5\n",
       "2016-01-04      26.0      16.3\n",
       "2016-01-05      25.7      17.1"
      ]
     },
     "execution_count": 71,
     "metadata": {},
     "output_type": "execute_result"
    }
   ],
   "source": [
    "temperature.head()"
   ]
  },
  {
   "cell_type": "markdown",
   "metadata": {},
   "source": [
    "<sapn style='color:red'>Until here, the 2020-10-11,12 data are correct</span>"
   ]
  },
  {
   "cell_type": "code",
   "execution_count": 78,
   "metadata": {},
   "outputs": [],
   "source": [
    "df1=pd.merge(demand, temperature, how='left', left_index=True, right_index=True)"
   ]
  },
  {
   "cell_type": "code",
   "execution_count": 79,
   "metadata": {},
   "outputs": [
    {
     "data": {
      "text/html": [
       "<div>\n",
       "<style scoped>\n",
       "    .dataframe tbody tr th:only-of-type {\n",
       "        vertical-align: middle;\n",
       "    }\n",
       "\n",
       "    .dataframe tbody tr th {\n",
       "        vertical-align: top;\n",
       "    }\n",
       "\n",
       "    .dataframe thead th {\n",
       "        text-align: right;\n",
       "    }\n",
       "</style>\n",
       "<table border=\"1\" class=\"dataframe\">\n",
       "  <thead>\n",
       "    <tr style=\"text-align: right;\">\n",
       "      <th></th>\n",
       "      <th>demand</th>\n",
       "      <th>30min</th>\n",
       "      <th>max_temp</th>\n",
       "      <th>min_temp</th>\n",
       "    </tr>\n",
       "  </thead>\n",
       "  <tbody>\n",
       "    <tr>\n",
       "      <th>2016-01-01</th>\n",
       "      <td>5197.34</td>\n",
       "      <td>2016-01-01 00:30:00</td>\n",
       "      <td>24.2</td>\n",
       "      <td>19.8</td>\n",
       "    </tr>\n",
       "    <tr>\n",
       "      <th>2016-01-01</th>\n",
       "      <td>4934.54</td>\n",
       "      <td>2016-01-01 01:00:00</td>\n",
       "      <td>24.2</td>\n",
       "      <td>19.8</td>\n",
       "    </tr>\n",
       "    <tr>\n",
       "      <th>2016-01-01</th>\n",
       "      <td>4721.32</td>\n",
       "      <td>2016-01-01 01:30:00</td>\n",
       "      <td>24.2</td>\n",
       "      <td>19.8</td>\n",
       "    </tr>\n",
       "    <tr>\n",
       "      <th>2016-01-01</th>\n",
       "      <td>4541.24</td>\n",
       "      <td>2016-01-01 02:00:00</td>\n",
       "      <td>24.2</td>\n",
       "      <td>19.8</td>\n",
       "    </tr>\n",
       "    <tr>\n",
       "      <th>2016-01-01</th>\n",
       "      <td>4344.18</td>\n",
       "      <td>2016-01-01 02:30:00</td>\n",
       "      <td>24.2</td>\n",
       "      <td>19.8</td>\n",
       "    </tr>\n",
       "  </tbody>\n",
       "</table>\n",
       "</div>"
      ],
      "text/plain": [
       "             demand               30min  max_temp  min_temp\n",
       "2016-01-01  5197.34 2016-01-01 00:30:00      24.2      19.8\n",
       "2016-01-01  4934.54 2016-01-01 01:00:00      24.2      19.8\n",
       "2016-01-01  4721.32 2016-01-01 01:30:00      24.2      19.8\n",
       "2016-01-01  4541.24 2016-01-01 02:00:00      24.2      19.8\n",
       "2016-01-01  4344.18 2016-01-01 02:30:00      24.2      19.8"
      ]
     },
     "execution_count": 79,
     "metadata": {},
     "output_type": "execute_result"
    }
   ],
   "source": [
    "df1.head()"
   ]
  },
  {
   "cell_type": "code",
   "execution_count": 80,
   "metadata": {},
   "outputs": [],
   "source": [
    "df1=pd.merge(df1, day_length, how='left', left_index=True, right_index=True)"
   ]
  },
  {
   "cell_type": "code",
   "execution_count": 81,
   "metadata": {},
   "outputs": [
    {
     "data": {
      "text/html": [
       "<div>\n",
       "<style scoped>\n",
       "    .dataframe tbody tr th:only-of-type {\n",
       "        vertical-align: middle;\n",
       "    }\n",
       "\n",
       "    .dataframe tbody tr th {\n",
       "        vertical-align: top;\n",
       "    }\n",
       "\n",
       "    .dataframe thead th {\n",
       "        text-align: right;\n",
       "    }\n",
       "</style>\n",
       "<table border=\"1\" class=\"dataframe\">\n",
       "  <thead>\n",
       "    <tr style=\"text-align: right;\">\n",
       "      <th></th>\n",
       "      <th>demand</th>\n",
       "      <th>30min</th>\n",
       "      <th>max_temp</th>\n",
       "      <th>min_temp</th>\n",
       "      <th>daylight</th>\n",
       "      <th>day_length_mins</th>\n",
       "    </tr>\n",
       "  </thead>\n",
       "  <tbody>\n",
       "    <tr>\n",
       "      <th>2020-10-29</th>\n",
       "      <td>4446.18</td>\n",
       "      <td>2020-10-29 22:00:00</td>\n",
       "      <td>24.3</td>\n",
       "      <td>11.2</td>\n",
       "      <td>13:35:05</td>\n",
       "      <td>815.08</td>\n",
       "    </tr>\n",
       "    <tr>\n",
       "      <th>2020-10-29</th>\n",
       "      <td>4353.45</td>\n",
       "      <td>2020-10-29 22:30:00</td>\n",
       "      <td>24.3</td>\n",
       "      <td>11.2</td>\n",
       "      <td>13:35:05</td>\n",
       "      <td>815.08</td>\n",
       "    </tr>\n",
       "    <tr>\n",
       "      <th>2020-10-29</th>\n",
       "      <td>4293.65</td>\n",
       "      <td>2020-10-29 23:00:00</td>\n",
       "      <td>24.3</td>\n",
       "      <td>11.2</td>\n",
       "      <td>13:35:05</td>\n",
       "      <td>815.08</td>\n",
       "    </tr>\n",
       "    <tr>\n",
       "      <th>2020-10-29</th>\n",
       "      <td>4479.59</td>\n",
       "      <td>2020-10-29 23:30:00</td>\n",
       "      <td>24.3</td>\n",
       "      <td>11.2</td>\n",
       "      <td>13:35:05</td>\n",
       "      <td>815.08</td>\n",
       "    </tr>\n",
       "    <tr>\n",
       "      <th>2020-10-30</th>\n",
       "      <td>4454.78</td>\n",
       "      <td>2020-10-30 00:00:00</td>\n",
       "      <td>NaN</td>\n",
       "      <td>NaN</td>\n",
       "      <td>13:37:18</td>\n",
       "      <td>817.30</td>\n",
       "    </tr>\n",
       "  </tbody>\n",
       "</table>\n",
       "</div>"
      ],
      "text/plain": [
       "             demand               30min  max_temp  min_temp  daylight  \\\n",
       "2020-10-29  4446.18 2020-10-29 22:00:00      24.3      11.2  13:35:05   \n",
       "2020-10-29  4353.45 2020-10-29 22:30:00      24.3      11.2  13:35:05   \n",
       "2020-10-29  4293.65 2020-10-29 23:00:00      24.3      11.2  13:35:05   \n",
       "2020-10-29  4479.59 2020-10-29 23:30:00      24.3      11.2  13:35:05   \n",
       "2020-10-30  4454.78 2020-10-30 00:00:00       NaN       NaN  13:37:18   \n",
       "\n",
       "            day_length_mins  \n",
       "2020-10-29           815.08  \n",
       "2020-10-29           815.08  \n",
       "2020-10-29           815.08  \n",
       "2020-10-29           815.08  \n",
       "2020-10-30           817.30  "
      ]
     },
     "execution_count": 81,
     "metadata": {},
     "output_type": "execute_result"
    }
   ],
   "source": [
    "df1.tail()"
   ]
  },
  {
   "cell_type": "code",
   "execution_count": 82,
   "metadata": {},
   "outputs": [],
   "source": [
    "df1=pd.merge(df1,holiday,how='left',left_index=True,right_index=True)"
   ]
  },
  {
   "cell_type": "code",
   "execution_count": 83,
   "metadata": {},
   "outputs": [
    {
     "data": {
      "text/plain": [
       "1.0    2208\n",
       "Name: isholiday, dtype: int64"
      ]
     },
     "execution_count": 83,
     "metadata": {},
     "output_type": "execute_result"
    }
   ],
   "source": [
    "df1['isholiday'].value_counts()"
   ]
  },
  {
   "cell_type": "code",
   "execution_count": 87,
   "metadata": {},
   "outputs": [],
   "source": [
    "df1=df1.iloc[:-1]"
   ]
  },
  {
   "cell_type": "code",
   "execution_count": 88,
   "metadata": {},
   "outputs": [
    {
     "data": {
      "text/html": [
       "<div>\n",
       "<style scoped>\n",
       "    .dataframe tbody tr th:only-of-type {\n",
       "        vertical-align: middle;\n",
       "    }\n",
       "\n",
       "    .dataframe tbody tr th {\n",
       "        vertical-align: top;\n",
       "    }\n",
       "\n",
       "    .dataframe thead th {\n",
       "        text-align: right;\n",
       "    }\n",
       "</style>\n",
       "<table border=\"1\" class=\"dataframe\">\n",
       "  <thead>\n",
       "    <tr style=\"text-align: right;\">\n",
       "      <th></th>\n",
       "      <th>demand</th>\n",
       "      <th>30min</th>\n",
       "      <th>max_temp</th>\n",
       "      <th>min_temp</th>\n",
       "      <th>daylight</th>\n",
       "      <th>day_length_mins</th>\n",
       "      <th>isholiday</th>\n",
       "    </tr>\n",
       "  </thead>\n",
       "  <tbody>\n",
       "    <tr>\n",
       "      <th>2020-10-29</th>\n",
       "      <td>4621.36</td>\n",
       "      <td>2020-10-29 21:30:00</td>\n",
       "      <td>24.3</td>\n",
       "      <td>11.2</td>\n",
       "      <td>13:35:05</td>\n",
       "      <td>815.08</td>\n",
       "      <td>NaN</td>\n",
       "    </tr>\n",
       "    <tr>\n",
       "      <th>2020-10-29</th>\n",
       "      <td>4446.18</td>\n",
       "      <td>2020-10-29 22:00:00</td>\n",
       "      <td>24.3</td>\n",
       "      <td>11.2</td>\n",
       "      <td>13:35:05</td>\n",
       "      <td>815.08</td>\n",
       "      <td>NaN</td>\n",
       "    </tr>\n",
       "    <tr>\n",
       "      <th>2020-10-29</th>\n",
       "      <td>4353.45</td>\n",
       "      <td>2020-10-29 22:30:00</td>\n",
       "      <td>24.3</td>\n",
       "      <td>11.2</td>\n",
       "      <td>13:35:05</td>\n",
       "      <td>815.08</td>\n",
       "      <td>NaN</td>\n",
       "    </tr>\n",
       "    <tr>\n",
       "      <th>2020-10-29</th>\n",
       "      <td>4293.65</td>\n",
       "      <td>2020-10-29 23:00:00</td>\n",
       "      <td>24.3</td>\n",
       "      <td>11.2</td>\n",
       "      <td>13:35:05</td>\n",
       "      <td>815.08</td>\n",
       "      <td>NaN</td>\n",
       "    </tr>\n",
       "    <tr>\n",
       "      <th>2020-10-29</th>\n",
       "      <td>4479.59</td>\n",
       "      <td>2020-10-29 23:30:00</td>\n",
       "      <td>24.3</td>\n",
       "      <td>11.2</td>\n",
       "      <td>13:35:05</td>\n",
       "      <td>815.08</td>\n",
       "      <td>NaN</td>\n",
       "    </tr>\n",
       "  </tbody>\n",
       "</table>\n",
       "</div>"
      ],
      "text/plain": [
       "             demand               30min  max_temp  min_temp  daylight  \\\n",
       "2020-10-29  4621.36 2020-10-29 21:30:00      24.3      11.2  13:35:05   \n",
       "2020-10-29  4446.18 2020-10-29 22:00:00      24.3      11.2  13:35:05   \n",
       "2020-10-29  4353.45 2020-10-29 22:30:00      24.3      11.2  13:35:05   \n",
       "2020-10-29  4293.65 2020-10-29 23:00:00      24.3      11.2  13:35:05   \n",
       "2020-10-29  4479.59 2020-10-29 23:30:00      24.3      11.2  13:35:05   \n",
       "\n",
       "            day_length_mins  isholiday  \n",
       "2020-10-29           815.08        NaN  \n",
       "2020-10-29           815.08        NaN  \n",
       "2020-10-29           815.08        NaN  \n",
       "2020-10-29           815.08        NaN  \n",
       "2020-10-29           815.08        NaN  "
      ]
     },
     "execution_count": 88,
     "metadata": {},
     "output_type": "execute_result"
    }
   ],
   "source": [
    "df1.tail()"
   ]
  },
  {
   "cell_type": "markdown",
   "metadata": {},
   "source": [
    "# 2. EDA for seasonality,outliers and correlation"
   ]
  },
  {
   "cell_type": "markdown",
   "metadata": {},
   "source": [
    "## 2.2.1 Explore seasonality \n",
    "Clear seasonality but data needs to be further smoothed."
   ]
  },
  {
   "cell_type": "code",
   "execution_count": 89,
   "metadata": {},
   "outputs": [
    {
     "data": {
      "image/png": "[encoded data removed]",
      "text/plain": [
       "<Figure size 1440x360 with 1 Axes>"
      ]
     },
     "metadata": {
      "needs_background": "light"
     },
     "output_type": "display_data"
    }
   ],
   "source": [
    "\n",
    "title ='2016-2020 Victoria Electricity Demand'\n",
    "xlabel=''\n",
    "ylabel='Electricity Demand (MWh)'\n",
    "\n",
    "ax=df1['demand'].resample(rule='D').mean().plot(label='Daily',color='#388E3C',figsize=(20,5),title=title)\n",
    "ax=df1['demand'].resample(rule='M').mean().plot(label='Monthly',color='#536DFE')\n",
    "ax=df1['demand'].resample(rule='Q').mean().plot(label='Quarterly',color='#FFC107')\n",
    "ax.autoscale(axis='x',tight=True)\n",
    "ax.legend(loc='upper right')\n",
    "ax.set(xlabel=xlabel,ylabel=ylabel);\n"
   ]
  },
  {
   "cell_type": "markdown",
   "metadata": {},
   "source": [
    "## Function to plot daily/hourly demand profile by years"
   ]
  },
  {
   "cell_type": "markdown",
   "metadata": {},
   "source": [
    "### Daily Demand Profile"
   ]
  },
  {
   "cell_type": "code",
   "execution_count": 90,
   "metadata": {},
   "outputs": [],
   "source": [
    "demand.index=pd.to_datetime(demand.index)"
   ]
  },
  {
   "cell_type": "code",
   "execution_count": 91,
   "metadata": {},
   "outputs": [],
   "source": [
    "def daily_demand_profile(df):\n",
    "    year_demand=df[['demand']]\n",
    "    year_demand['year']=year_demand.index.year\n",
    "    year_demand['day_of_year']=year_demand.index.dayofyear\n",
    "                                                          \n",
    "    year_2016= year_demand[year_demand['year']==2016].groupby('day_of_year').mean()['demand']\n",
    "    year_2017= year_demand[year_demand['year']==2017].groupby('day_of_year').mean()['demand']\n",
    "    year_2018= year_demand[year_demand['year']==2018].groupby('day_of_year').mean()['demand']\n",
    "    year_2019= year_demand[year_demand['year']==2019].groupby('day_of_year').mean()['demand']\n",
    "    year_2020= year_demand[year_demand['year']==2020].groupby('day_of_year').mean()['demand']\n",
    "    \n",
    "    df2016=pd.DataFrame(data=year_2016.values,index=year_2016.index,columns=['2016'])\n",
    "    df2017=pd.DataFrame(data=year_2017.values,index=year_2017.index,columns=['2017'])\n",
    "    df2018=pd.DataFrame(data=year_2018.values,index=year_2018.index,columns=['2018'])\n",
    "    df2019=pd.DataFrame(data=year_2019.values,index=year_2019.index,columns=['2019'])\n",
    "    df2020=pd.DataFrame(data=year_2020.values,index=year_2020.index,columns=['2020'])\n",
    "    \n",
    "    df_all=pd.concat([df2016,df2017,df2018,df2019,df2020],axis=1)\n",
    "\n",
    "    \n",
    "    \n",
    "    return df_all"
   ]
  },
  {
   "cell_type": "code",
   "execution_count": 92,
   "metadata": {},
   "outputs": [],
   "source": [
    "demand_daily=daily_demand_profile(demand)"
   ]
  },
  {
   "cell_type": "code",
   "execution_count": 93,
   "metadata": {},
   "outputs": [
    {
     "data": {
      "image/png": "[encoded data removed]",
      "text/plain": [
       "<Figure size 1800x432 with 1 Axes>"
      ]
     },
     "metadata": {
      "needs_background": "light"
     },
     "output_type": "display_data"
    }
   ],
   "source": [
    "demand_daily.iloc[:304][['2019','2020']].plot(figsize=(25,6)) # Slice from January ---October\n",
    "plt.legend(loc='upper right', labels=[ '2019', '2020'])\n",
    "plt.xlabel('Day of Year',fontsize=14)\n",
    "plt.ylabel('Average Daily Demand (MWh)',fontsize=14)\n",
    "plt.title('Victoria Average Daily Demand Profile',fontsize=16);\n",
    "    "
   ]
  },
  {
   "cell_type": "markdown",
   "metadata": {},
   "source": [
    "### Hourly Demand Profile"
   ]
  },
  {
   "cell_type": "code",
   "execution_count": 94,
   "metadata": {},
   "outputs": [],
   "source": [
    "def hourly_demand_profile(df):\n",
    "    year_demand=df[['demand']]\n",
    "    year_demand['year']=year_demand.index.year\n",
    "    year_demand['hour_of_day']=df['30min'].dt.hour\n",
    "                                                          \n",
    "    year_2016= year_demand[year_demand['year']==2016].groupby('hour_of_day').mean()['demand']\n",
    "    year_2017= year_demand[year_demand['year']==2017].groupby('hour_of_day').mean()['demand']\n",
    "    year_2018= year_demand[year_demand['year']==2018].groupby('hour_of_day').mean()['demand']\n",
    "    year_2019= year_demand[year_demand['year']==2019].groupby('hour_of_day').mean()['demand']\n",
    "    year_2020= year_demand[year_demand['year']==2020].groupby('hour_of_day').mean()['demand']\n",
    "    \n",
    "    df2016=pd.DataFrame(data=year_2016.values,index=year_2016.index,columns=['2016'])\n",
    "    df2017=pd.DataFrame(data=year_2017.values,index=year_2017.index,columns=['2017'])\n",
    "    df2018=pd.DataFrame(data=year_2018.values,index=year_2018.index,columns=['2018'])\n",
    "    df2019=pd.DataFrame(data=year_2019.values,index=year_2019.index,columns=['2019'])\n",
    "    df2020=pd.DataFrame(data=year_2020.values,index=year_2020.index,columns=['2020'])\n",
    "    \n",
    "    df_all=pd.concat([df2016,df2017,df2018,df2019,df2020],axis=1)\n",
    "\n",
    "    \n",
    "    \n",
    "    return df_all"
   ]
  },
  {
   "cell_type": "code",
   "execution_count": 95,
   "metadata": {},
   "outputs": [],
   "source": [
    "demand_hourly=hourly_demand_profile(demand)"
   ]
  },
  {
   "cell_type": "markdown",
   "metadata": {},
   "source": [
    "Hourly demand profile indicates that due to Covid-19,there is a late morning peak hour from 7 amm to 9 am. \\\n",
    "Followed with an apparent demand drop down during peak hours 9 am to 18 pm. \\\n",
    "At night, the peak demand is a little higher than previous years."
   ]
  },
  {
   "cell_type": "code",
   "execution_count": 96,
   "metadata": {},
   "outputs": [
    {
     "data": {
      "image/png": "[encoded data removed]",
      "text/plain": [
       "<Figure size 720x432 with 1 Axes>"
      ]
     },
     "metadata": {
      "needs_background": "light"
     },
     "output_type": "display_data"
    }
   ],
   "source": [
    "demand_hourly.plot(figsize=(10,6)) # Slice from January ---October\n",
    "plt.legend(loc='upper left', labels=['2016','2017','2018','2019', '2020'])\n",
    "plt.xlabel('Hour of Day',fontsize=14)\n",
    "plt.xticks(np.arange(0, 25, 1))\n",
    "plt.axvline(x=7,color='#212121',alpha=0.6)\n",
    "plt.axvline(x=9,color='#212121',alpha=0.6)\n",
    "plt.axvline(x=18,color='#212121',alpha=0.6)\n",
    "plt.axvline(x=22,color='#212121',alpha=0.6)\n",
    "plt.text(7, 4250, 'Late Morning Peak')\n",
    "plt.text(12, 4250, 'Significant Reduction')\n",
    "plt.text(18, 4250, 'Slightly Higher Night Demand')\n",
    "plt.ylabel('Average Hourly Demand (MWh)',fontsize=14)\n",
    "plt.title('Victoria Average Hourly Demand Profile',fontsize=16);\n",
    "    "
   ]
  },
  {
   "cell_type": "markdown",
   "metadata": {},
   "source": [
    "# 3 Feature Engineering"
   ]
  },
  {
   "cell_type": "markdown",
   "metadata": {},
   "source": [
    "## 3.1 Add more time features and fix isholiday\n",
    "<span style='color:red'>Add more time features compliant with AEMO half-hourly demand forecast model</span>"
   ]
  },
  {
   "cell_type": "code",
   "execution_count": 97,
   "metadata": {
    "scrolled": false
   },
   "outputs": [
    {
     "data": {
      "text/plain": [
       "demand                    float64\n",
       "30min              datetime64[ns]\n",
       "max_temp                  float64\n",
       "min_temp                  float64\n",
       "daylight                   object\n",
       "day_length_mins           float64\n",
       "isholiday                 float64\n",
       "dtype: object"
      ]
     },
     "execution_count": 97,
     "metadata": {},
     "output_type": "execute_result"
    }
   ],
   "source": [
    "df1.dtypes"
   ]
  },
  {
   "cell_type": "code",
   "execution_count": 98,
   "metadata": {},
   "outputs": [],
   "source": [
    "df1=df1.drop(columns='daylight')"
   ]
  },
  {
   "cell_type": "code",
   "execution_count": 99,
   "metadata": {
    "scrolled": false
   },
   "outputs": [
    {
     "data": {
      "text/plain": [
       "0    12192\n",
       "1    12144\n",
       "4    12143\n",
       "6    12096\n",
       "5    12096\n",
       "3    12096\n",
       "2    12096\n",
       "Name: 30min, dtype: int64"
      ]
     },
     "execution_count": 99,
     "metadata": {},
     "output_type": "execute_result"
    }
   ],
   "source": [
    "df1['30min'].dt.weekday.value_counts() # weekday:,1,2,3,4 weekend:5,6"
   ]
  },
  {
   "cell_type": "code",
   "execution_count": 100,
   "metadata": {},
   "outputs": [],
   "source": [
    "def fix_time_isholiday(df):\n",
    "    \"\"\"\n",
    "    Add hour,weekday and hour as new features.Encode time and mark not holiday as 0.\n",
    "    \"\"\"\n",
    "    # 1.Add time features\n",
    "    # Add hour as everyday has peak hour\n",
    "    df['month']=df['30min'].dt.month\n",
    "    df['hour'] = df['30min'].dt.time\n",
    "    le=LabelEncoder()\n",
    "    df['hour']=le.fit_transform(df['hour'])\n",
    "    # Add weekend and mark  weekday as 0,weekend as 1\n",
    "    df['weekend']=df['30min'].dt.weekday\n",
    "    df['weekend']=df['weekend'].apply(lambda x: 0 if x in range(5) else 1)\n",
    "\n",
    "    # Holiday:1  NaN:0\n",
    "    df['isholiday'].fillna(0,inplace=True)\n",
    "                           \n",
    "    return df"
   ]
  },
  {
   "cell_type": "code",
   "execution_count": 102,
   "metadata": {},
   "outputs": [],
   "source": [
    "df1=fix_time_isholiday(df1)"
   ]
  },
  {
   "cell_type": "code",
   "execution_count": 104,
   "metadata": {},
   "outputs": [
    {
     "data": {
      "text/html": [
       "<div>\n",
       "<style scoped>\n",
       "    .dataframe tbody tr th:only-of-type {\n",
       "        vertical-align: middle;\n",
       "    }\n",
       "\n",
       "    .dataframe tbody tr th {\n",
       "        vertical-align: top;\n",
       "    }\n",
       "\n",
       "    .dataframe thead th {\n",
       "        text-align: right;\n",
       "    }\n",
       "</style>\n",
       "<table border=\"1\" class=\"dataframe\">\n",
       "  <thead>\n",
       "    <tr style=\"text-align: right;\">\n",
       "      <th></th>\n",
       "      <th>demand</th>\n",
       "      <th>30min</th>\n",
       "      <th>max_temp</th>\n",
       "      <th>min_temp</th>\n",
       "      <th>day_length_mins</th>\n",
       "      <th>isholiday</th>\n",
       "      <th>month</th>\n",
       "      <th>hour</th>\n",
       "      <th>weekend</th>\n",
       "    </tr>\n",
       "  </thead>\n",
       "  <tbody>\n",
       "    <tr>\n",
       "      <th>2020-10-29</th>\n",
       "      <td>4621.36</td>\n",
       "      <td>2020-10-29 21:30:00</td>\n",
       "      <td>24.3</td>\n",
       "      <td>11.2</td>\n",
       "      <td>815.08</td>\n",
       "      <td>0.0</td>\n",
       "      <td>10</td>\n",
       "      <td>43</td>\n",
       "      <td>0</td>\n",
       "    </tr>\n",
       "    <tr>\n",
       "      <th>2020-10-29</th>\n",
       "      <td>4446.18</td>\n",
       "      <td>2020-10-29 22:00:00</td>\n",
       "      <td>24.3</td>\n",
       "      <td>11.2</td>\n",
       "      <td>815.08</td>\n",
       "      <td>0.0</td>\n",
       "      <td>10</td>\n",
       "      <td>44</td>\n",
       "      <td>0</td>\n",
       "    </tr>\n",
       "    <tr>\n",
       "      <th>2020-10-29</th>\n",
       "      <td>4353.45</td>\n",
       "      <td>2020-10-29 22:30:00</td>\n",
       "      <td>24.3</td>\n",
       "      <td>11.2</td>\n",
       "      <td>815.08</td>\n",
       "      <td>0.0</td>\n",
       "      <td>10</td>\n",
       "      <td>45</td>\n",
       "      <td>0</td>\n",
       "    </tr>\n",
       "    <tr>\n",
       "      <th>2020-10-29</th>\n",
       "      <td>4293.65</td>\n",
       "      <td>2020-10-29 23:00:00</td>\n",
       "      <td>24.3</td>\n",
       "      <td>11.2</td>\n",
       "      <td>815.08</td>\n",
       "      <td>0.0</td>\n",
       "      <td>10</td>\n",
       "      <td>46</td>\n",
       "      <td>0</td>\n",
       "    </tr>\n",
       "    <tr>\n",
       "      <th>2020-10-29</th>\n",
       "      <td>4479.59</td>\n",
       "      <td>2020-10-29 23:30:00</td>\n",
       "      <td>24.3</td>\n",
       "      <td>11.2</td>\n",
       "      <td>815.08</td>\n",
       "      <td>0.0</td>\n",
       "      <td>10</td>\n",
       "      <td>47</td>\n",
       "      <td>0</td>\n",
       "    </tr>\n",
       "  </tbody>\n",
       "</table>\n",
       "</div>"
      ],
      "text/plain": [
       "             demand               30min  max_temp  min_temp  day_length_mins  \\\n",
       "2020-10-29  4621.36 2020-10-29 21:30:00      24.3      11.2           815.08   \n",
       "2020-10-29  4446.18 2020-10-29 22:00:00      24.3      11.2           815.08   \n",
       "2020-10-29  4353.45 2020-10-29 22:30:00      24.3      11.2           815.08   \n",
       "2020-10-29  4293.65 2020-10-29 23:00:00      24.3      11.2           815.08   \n",
       "2020-10-29  4479.59 2020-10-29 23:30:00      24.3      11.2           815.08   \n",
       "\n",
       "            isholiday  month  hour  weekend  \n",
       "2020-10-29        0.0     10    43        0  \n",
       "2020-10-29        0.0     10    44        0  \n",
       "2020-10-29        0.0     10    45        0  \n",
       "2020-10-29        0.0     10    46        0  \n",
       "2020-10-29        0.0     10    47        0  "
      ]
     },
     "execution_count": 104,
     "metadata": {},
     "output_type": "execute_result"
    }
   ],
   "source": [
    "df1.tail()"
   ]
  },
  {
   "cell_type": "markdown",
   "metadata": {},
   "source": [
    "## 3.2 Split data \n",
    "<span style='color:red'>Use Jan 2016-Dec 2019 to predict 2020 demand</span>"
   ]
  },
  {
   "cell_type": "code",
   "execution_count": 105,
   "metadata": {},
   "outputs": [
    {
     "data": {
      "text/html": [
       "<div>\n",
       "<style scoped>\n",
       "    .dataframe tbody tr th:only-of-type {\n",
       "        vertical-align: middle;\n",
       "    }\n",
       "\n",
       "    .dataframe tbody tr th {\n",
       "        vertical-align: top;\n",
       "    }\n",
       "\n",
       "    .dataframe thead th {\n",
       "        text-align: right;\n",
       "    }\n",
       "</style>\n",
       "<table border=\"1\" class=\"dataframe\">\n",
       "  <thead>\n",
       "    <tr style=\"text-align: right;\">\n",
       "      <th></th>\n",
       "      <th>demand</th>\n",
       "      <th>30min</th>\n",
       "      <th>max_temp</th>\n",
       "      <th>min_temp</th>\n",
       "      <th>day_length_mins</th>\n",
       "      <th>isholiday</th>\n",
       "      <th>month</th>\n",
       "      <th>hour</th>\n",
       "      <th>weekend</th>\n",
       "    </tr>\n",
       "  </thead>\n",
       "  <tbody>\n",
       "    <tr>\n",
       "      <th>2016-01-01</th>\n",
       "      <td>5197.34</td>\n",
       "      <td>2016-01-01 00:30:00</td>\n",
       "      <td>24.2</td>\n",
       "      <td>19.8</td>\n",
       "      <td>884.32</td>\n",
       "      <td>0.0</td>\n",
       "      <td>1</td>\n",
       "      <td>1</td>\n",
       "      <td>0</td>\n",
       "    </tr>\n",
       "    <tr>\n",
       "      <th>2016-01-01</th>\n",
       "      <td>4934.54</td>\n",
       "      <td>2016-01-01 01:00:00</td>\n",
       "      <td>24.2</td>\n",
       "      <td>19.8</td>\n",
       "      <td>884.32</td>\n",
       "      <td>0.0</td>\n",
       "      <td>1</td>\n",
       "      <td>2</td>\n",
       "      <td>0</td>\n",
       "    </tr>\n",
       "    <tr>\n",
       "      <th>2016-01-01</th>\n",
       "      <td>4721.32</td>\n",
       "      <td>2016-01-01 01:30:00</td>\n",
       "      <td>24.2</td>\n",
       "      <td>19.8</td>\n",
       "      <td>884.32</td>\n",
       "      <td>0.0</td>\n",
       "      <td>1</td>\n",
       "      <td>3</td>\n",
       "      <td>0</td>\n",
       "    </tr>\n",
       "    <tr>\n",
       "      <th>2016-01-01</th>\n",
       "      <td>4541.24</td>\n",
       "      <td>2016-01-01 02:00:00</td>\n",
       "      <td>24.2</td>\n",
       "      <td>19.8</td>\n",
       "      <td>884.32</td>\n",
       "      <td>0.0</td>\n",
       "      <td>1</td>\n",
       "      <td>4</td>\n",
       "      <td>0</td>\n",
       "    </tr>\n",
       "    <tr>\n",
       "      <th>2016-01-01</th>\n",
       "      <td>4344.18</td>\n",
       "      <td>2016-01-01 02:30:00</td>\n",
       "      <td>24.2</td>\n",
       "      <td>19.8</td>\n",
       "      <td>884.32</td>\n",
       "      <td>0.0</td>\n",
       "      <td>1</td>\n",
       "      <td>5</td>\n",
       "      <td>0</td>\n",
       "    </tr>\n",
       "  </tbody>\n",
       "</table>\n",
       "</div>"
      ],
      "text/plain": [
       "             demand               30min  max_temp  min_temp  day_length_mins  \\\n",
       "2016-01-01  5197.34 2016-01-01 00:30:00      24.2      19.8           884.32   \n",
       "2016-01-01  4934.54 2016-01-01 01:00:00      24.2      19.8           884.32   \n",
       "2016-01-01  4721.32 2016-01-01 01:30:00      24.2      19.8           884.32   \n",
       "2016-01-01  4541.24 2016-01-01 02:00:00      24.2      19.8           884.32   \n",
       "2016-01-01  4344.18 2016-01-01 02:30:00      24.2      19.8           884.32   \n",
       "\n",
       "            isholiday  month  hour  weekend  \n",
       "2016-01-01        0.0      1     1        0  \n",
       "2016-01-01        0.0      1     2        0  \n",
       "2016-01-01        0.0      1     3        0  \n",
       "2016-01-01        0.0      1     4        0  \n",
       "2016-01-01        0.0      1     5        0  "
      ]
     },
     "execution_count": 105,
     "metadata": {},
     "output_type": "execute_result"
    }
   ],
   "source": [
    "df1.head()"
   ]
  },
  {
   "cell_type": "code",
   "execution_count": 106,
   "metadata": {},
   "outputs": [],
   "source": [
    "features=df1.iloc[:,1:]"
   ]
  },
  {
   "cell_type": "code",
   "execution_count": 107,
   "metadata": {},
   "outputs": [
    {
     "data": {
      "text/html": [
       "<div>\n",
       "<style scoped>\n",
       "    .dataframe tbody tr th:only-of-type {\n",
       "        vertical-align: middle;\n",
       "    }\n",
       "\n",
       "    .dataframe tbody tr th {\n",
       "        vertical-align: top;\n",
       "    }\n",
       "\n",
       "    .dataframe thead th {\n",
       "        text-align: right;\n",
       "    }\n",
       "</style>\n",
       "<table border=\"1\" class=\"dataframe\">\n",
       "  <thead>\n",
       "    <tr style=\"text-align: right;\">\n",
       "      <th></th>\n",
       "      <th>30min</th>\n",
       "      <th>max_temp</th>\n",
       "      <th>min_temp</th>\n",
       "      <th>day_length_mins</th>\n",
       "      <th>isholiday</th>\n",
       "      <th>month</th>\n",
       "      <th>hour</th>\n",
       "      <th>weekend</th>\n",
       "    </tr>\n",
       "  </thead>\n",
       "  <tbody>\n",
       "    <tr>\n",
       "      <th>2020-10-29</th>\n",
       "      <td>2020-10-29 21:30:00</td>\n",
       "      <td>24.3</td>\n",
       "      <td>11.2</td>\n",
       "      <td>815.08</td>\n",
       "      <td>0.0</td>\n",
       "      <td>10</td>\n",
       "      <td>43</td>\n",
       "      <td>0</td>\n",
       "    </tr>\n",
       "    <tr>\n",
       "      <th>2020-10-29</th>\n",
       "      <td>2020-10-29 22:00:00</td>\n",
       "      <td>24.3</td>\n",
       "      <td>11.2</td>\n",
       "      <td>815.08</td>\n",
       "      <td>0.0</td>\n",
       "      <td>10</td>\n",
       "      <td>44</td>\n",
       "      <td>0</td>\n",
       "    </tr>\n",
       "    <tr>\n",
       "      <th>2020-10-29</th>\n",
       "      <td>2020-10-29 22:30:00</td>\n",
       "      <td>24.3</td>\n",
       "      <td>11.2</td>\n",
       "      <td>815.08</td>\n",
       "      <td>0.0</td>\n",
       "      <td>10</td>\n",
       "      <td>45</td>\n",
       "      <td>0</td>\n",
       "    </tr>\n",
       "    <tr>\n",
       "      <th>2020-10-29</th>\n",
       "      <td>2020-10-29 23:00:00</td>\n",
       "      <td>24.3</td>\n",
       "      <td>11.2</td>\n",
       "      <td>815.08</td>\n",
       "      <td>0.0</td>\n",
       "      <td>10</td>\n",
       "      <td>46</td>\n",
       "      <td>0</td>\n",
       "    </tr>\n",
       "    <tr>\n",
       "      <th>2020-10-29</th>\n",
       "      <td>2020-10-29 23:30:00</td>\n",
       "      <td>24.3</td>\n",
       "      <td>11.2</td>\n",
       "      <td>815.08</td>\n",
       "      <td>0.0</td>\n",
       "      <td>10</td>\n",
       "      <td>47</td>\n",
       "      <td>0</td>\n",
       "    </tr>\n",
       "  </tbody>\n",
       "</table>\n",
       "</div>"
      ],
      "text/plain": [
       "                         30min  max_temp  min_temp  day_length_mins  \\\n",
       "2020-10-29 2020-10-29 21:30:00      24.3      11.2           815.08   \n",
       "2020-10-29 2020-10-29 22:00:00      24.3      11.2           815.08   \n",
       "2020-10-29 2020-10-29 22:30:00      24.3      11.2           815.08   \n",
       "2020-10-29 2020-10-29 23:00:00      24.3      11.2           815.08   \n",
       "2020-10-29 2020-10-29 23:30:00      24.3      11.2           815.08   \n",
       "\n",
       "            isholiday  month  hour  weekend  \n",
       "2020-10-29        0.0     10    43        0  \n",
       "2020-10-29        0.0     10    44        0  \n",
       "2020-10-29        0.0     10    45        0  \n",
       "2020-10-29        0.0     10    46        0  \n",
       "2020-10-29        0.0     10    47        0  "
      ]
     },
     "execution_count": 107,
     "metadata": {},
     "output_type": "execute_result"
    }
   ],
   "source": [
    "features.tail()"
   ]
  },
  {
   "cell_type": "code",
   "execution_count": 108,
   "metadata": {},
   "outputs": [],
   "source": [
    "target=df1.iloc[:,0]"
   ]
  },
  {
   "cell_type": "code",
   "execution_count": 109,
   "metadata": {},
   "outputs": [],
   "source": [
    "target=pd.DataFrame(data=target.values,index=target.index,columns=['demand'])"
   ]
  },
  {
   "cell_type": "code",
   "execution_count": 110,
   "metadata": {},
   "outputs": [
    {
     "data": {
      "text/html": [
       "<div>\n",
       "<style scoped>\n",
       "    .dataframe tbody tr th:only-of-type {\n",
       "        vertical-align: middle;\n",
       "    }\n",
       "\n",
       "    .dataframe tbody tr th {\n",
       "        vertical-align: top;\n",
       "    }\n",
       "\n",
       "    .dataframe thead th {\n",
       "        text-align: right;\n",
       "    }\n",
       "</style>\n",
       "<table border=\"1\" class=\"dataframe\">\n",
       "  <thead>\n",
       "    <tr style=\"text-align: right;\">\n",
       "      <th></th>\n",
       "      <th>demand</th>\n",
       "    </tr>\n",
       "  </thead>\n",
       "  <tbody>\n",
       "    <tr>\n",
       "      <th>2020-10-29</th>\n",
       "      <td>4621.36</td>\n",
       "    </tr>\n",
       "    <tr>\n",
       "      <th>2020-10-29</th>\n",
       "      <td>4446.18</td>\n",
       "    </tr>\n",
       "    <tr>\n",
       "      <th>2020-10-29</th>\n",
       "      <td>4353.45</td>\n",
       "    </tr>\n",
       "    <tr>\n",
       "      <th>2020-10-29</th>\n",
       "      <td>4293.65</td>\n",
       "    </tr>\n",
       "    <tr>\n",
       "      <th>2020-10-29</th>\n",
       "      <td>4479.59</td>\n",
       "    </tr>\n",
       "  </tbody>\n",
       "</table>\n",
       "</div>"
      ],
      "text/plain": [
       "             demand\n",
       "2020-10-29  4621.36\n",
       "2020-10-29  4446.18\n",
       "2020-10-29  4353.45\n",
       "2020-10-29  4293.65\n",
       "2020-10-29  4479.59"
      ]
     },
     "execution_count": 110,
     "metadata": {},
     "output_type": "execute_result"
    }
   ],
   "source": [
    "target.tail()"
   ]
  },
  {
   "cell_type": "code",
   "execution_count": 111,
   "metadata": {},
   "outputs": [],
   "source": [
    "features.to_csv(r'C:\\Users\\syxsw\\MLProjects\\Australia_Electricity\\features.csv')"
   ]
  },
  {
   "cell_type": "code",
   "execution_count": 112,
   "metadata": {},
   "outputs": [],
   "source": [
    "target.to_csv(r'C:\\Users\\syxsw\\MLProjects\\Australia_Electricity\\target.csv')"
   ]
  },
  {
   "cell_type": "code",
   "execution_count": 114,
   "metadata": {},
   "outputs": [],
   "source": [
    "df1.to_csv(r'C:\\Users\\syxsw\\MLProjects\\Australia_Electricity\\ALL.csv')"
   ]
  },
  {
   "cell_type": "code",
   "execution_count": null,
   "metadata": {},
   "outputs": [],
   "source": []
  }
 ],
 "metadata": {
  "kernelspec": {
   "display_name": "Python 3",
   "language": "python",
   "name": "python3"
  },
  "language_info": {
   "codemirror_mode": {
    "name": "ipython",
    "version": 3
   },
   "file_extension": ".py",
   "mimetype": "text/x-python",
   "name": "python",
   "nbconvert_exporter": "python",
   "pygments_lexer": "ipython3",
   "version": "3.7.3"
  }
 },
 "nbformat": 4,
 "nbformat_minor": 2
}
